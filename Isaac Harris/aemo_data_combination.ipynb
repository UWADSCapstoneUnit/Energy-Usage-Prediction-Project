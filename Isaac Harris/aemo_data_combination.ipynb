{
 "cells": [
  {
   "cell_type": "markdown",
   "metadata": {},
   "source": [
    "## Combine all AEMO data into one CSV file\n",
    "\n",
    "### Code by : Isaac Harris"
   ]
  },
  {
   "cell_type": "code",
   "execution_count": 1,
   "metadata": {},
   "outputs": [],
   "source": [
    "# importing necessary library\n",
    "\n",
    "import os, os.path\n",
    "import glob\n",
    "from pathlib import Path\n",
    "import pandas as pd\n",
    "os.chdir(\"../Data/raw/AEMO/Operational-demand\")"
   ]
  },
  {
   "cell_type": "code",
   "execution_count": 2,
   "metadata": {},
   "outputs": [],
   "source": [
    "extension = 'csv'\n",
    "all_filenames = [i for i in glob.glob('*.{}'.format(extension))]"
   ]
  },
  {
   "cell_type": "code",
   "execution_count": 3,
   "metadata": {},
   "outputs": [
    {
     "data": {
      "text/html": [
       "<div>\n",
       "<style scoped>\n",
       "    .dataframe tbody tr th:only-of-type {\n",
       "        vertical-align: middle;\n",
       "    }\n",
       "\n",
       "    .dataframe tbody tr th {\n",
       "        vertical-align: top;\n",
       "    }\n",
       "\n",
       "    .dataframe thead th {\n",
       "        text-align: right;\n",
       "    }\n",
       "</style>\n",
       "<table border=\"1\" class=\"dataframe\">\n",
       "  <thead>\n",
       "    <tr style=\"text-align: right;\">\n",
       "      <th></th>\n",
       "      <th>timestamp</th>\n",
       "      <th>Operational Demand (MW)</th>\n",
       "    </tr>\n",
       "  </thead>\n",
       "  <tbody>\n",
       "    <tr>\n",
       "      <th>0</th>\n",
       "      <td>2006-09-20 00:00:00</td>\n",
       "      <td>1347.418</td>\n",
       "    </tr>\n",
       "    <tr>\n",
       "      <th>1</th>\n",
       "      <td>2006-09-20 00:30:00</td>\n",
       "      <td>1312.708</td>\n",
       "    </tr>\n",
       "    <tr>\n",
       "      <th>2</th>\n",
       "      <td>2006-09-20 01:00:00</td>\n",
       "      <td>1298.644</td>\n",
       "    </tr>\n",
       "    <tr>\n",
       "      <th>3</th>\n",
       "      <td>2006-09-20 01:30:00</td>\n",
       "      <td>1288.972</td>\n",
       "    </tr>\n",
       "    <tr>\n",
       "      <th>4</th>\n",
       "      <td>2006-09-20 02:00:00</td>\n",
       "      <td>1282.006</td>\n",
       "    </tr>\n",
       "  </tbody>\n",
       "</table>\n",
       "</div>"
      ],
      "text/plain": [
       "            timestamp  Operational Demand (MW)\n",
       "0 2006-09-20 00:00:00                 1347.418\n",
       "1 2006-09-20 00:30:00                 1312.708\n",
       "2 2006-09-20 01:00:00                 1298.644\n",
       "3 2006-09-20 01:30:00                 1288.972\n",
       "4 2006-09-20 02:00:00                 1282.006"
      ]
     },
     "execution_count": 3,
     "metadata": {},
     "output_type": "execute_result"
    }
   ],
   "source": [
    "#combine all files in the list\n",
    "df = pd.concat([pd.read_csv(f) for f in all_filenames ])\n",
    "\n",
    "#we only need trading interval and operational demand, therefore drop \"Trading Date\", \"Interval Number\" and \"Extracted At\"\n",
    "df = df.drop(['Trading Date', 'Interval Number', 'Extracted At'], axis = 1)\n",
    "\n",
    "df = df.rename(columns={\"Trading Interval\": \"timestamp\"})\n",
    "df = df.sort_values('timestamp')\n",
    "df['timestamp'] = pd.to_datetime(df['timestamp'])\n",
    "\n",
    "df.head()"
   ]
  },
  {
   "cell_type": "code",
   "execution_count": 4,
   "metadata": {},
   "outputs": [
    {
     "data": {
      "text/plain": [
       "timestamp                  0\n",
       "Operational Demand (MW)    0\n",
       "dtype: int64"
      ]
     },
     "execution_count": 4,
     "metadata": {},
     "output_type": "execute_result"
    }
   ],
   "source": [
    "df.isna().sum()"
   ]
  },
  {
   "cell_type": "code",
   "execution_count": 5,
   "metadata": {},
   "outputs": [
    {
     "name": "stdout",
     "output_type": "stream",
     "text": [
      "<class 'pandas.core.frame.DataFrame'>\n",
      "Int64Index: 278800 entries, 0 to 10847\n",
      "Data columns (total 2 columns):\n",
      " #   Column                   Non-Null Count   Dtype         \n",
      "---  ------                   --------------   -----         \n",
      " 0   timestamp                278800 non-null  datetime64[ns]\n",
      " 1   Operational Demand (MW)  278800 non-null  float64       \n",
      "dtypes: datetime64[ns](1), float64(1)\n",
      "memory usage: 6.4 MB\n"
     ]
    }
   ],
   "source": [
    "df.info()"
   ]
  },
  {
   "cell_type": "code",
   "execution_count": 6,
   "metadata": {},
   "outputs": [],
   "source": [
    "path = Path(os.getcwd())\n",
    "levels_up = 2\n",
    "to_folder = path.parents[levels_up]\n",
    "os.chdir(to_folder)\n",
    "df.to_csv( \"edited/AEMO_merged/combined_csv-operational-demand.csv\", index=False, encoding='utf-8-sig')"
   ]
  }
 ],
 "metadata": {
  "interpreter": {
   "hash": "e7094287f254496241cc358000a25c437191d65d3529ccccea7eb8767c2e14fd"
  },
  "kernelspec": {
   "display_name": "Python 3.8.5 ('cits5508-2022')",
   "language": "python",
   "name": "python3"
  },
  "language_info": {
   "codemirror_mode": {
    "name": "ipython",
    "version": 3
   },
   "file_extension": ".py",
   "mimetype": "text/x-python",
   "name": "python",
   "nbconvert_exporter": "python",
   "pygments_lexer": "ipython3",
   "version": "3.8.5"
  },
  "orig_nbformat": 4
 },
 "nbformat": 4,
 "nbformat_minor": 2
}
