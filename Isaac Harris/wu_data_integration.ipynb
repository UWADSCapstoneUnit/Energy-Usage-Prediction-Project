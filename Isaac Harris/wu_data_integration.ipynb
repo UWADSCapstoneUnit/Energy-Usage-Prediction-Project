{
 "cells": [
  {
   "cell_type": "markdown",
   "metadata": {},
   "source": [
    "# Merging WU Weather Data (30 mins weather interval)\n",
    "## by : Isaac Harris"
   ]
  },
  {
   "cell_type": "code",
   "execution_count": 1,
   "metadata": {},
   "outputs": [],
   "source": [
    "import pandas as pd\n",
    "import glob\n",
    "import os.path\n",
    "from pathlib import Path"
   ]
  },
  {
   "cell_type": "code",
   "execution_count": 2,
   "metadata": {},
   "outputs": [],
   "source": [
    "os.chdir(\"../Data/raw/WU\")\n",
    "# Create a list of all CSV files\n",
    "files = glob.glob(\"*.csv\")\n",
    "\n",
    "# Create an empty list to append the df\n",
    "filenames = []\n",
    "\n",
    "for csv in files:\n",
    "    df = pd.read_csv(csv)\n",
    "    #df['Date'] = os.path.basename(csv)\n",
    "    filenames.append(df)"
   ]
  },
  {
   "cell_type": "code",
   "execution_count": 3,
   "metadata": {},
   "outputs": [],
   "source": [
    "df_final = pd.concat(filenames)"
   ]
  },
  {
   "cell_type": "code",
   "execution_count": 4,
   "metadata": {},
   "outputs": [
    {
     "data": {
      "text/html": [
       "<div>\n",
       "<style scoped>\n",
       "    .dataframe tbody tr th:only-of-type {\n",
       "        vertical-align: middle;\n",
       "    }\n",
       "\n",
       "    .dataframe tbody tr th {\n",
       "        vertical-align: top;\n",
       "    }\n",
       "\n",
       "    .dataframe thead th {\n",
       "        text-align: right;\n",
       "    }\n",
       "</style>\n",
       "<table border=\"1\" class=\"dataframe\">\n",
       "  <thead>\n",
       "    <tr style=\"text-align: right;\">\n",
       "      <th></th>\n",
       "      <th>Time</th>\n",
       "      <th>Temperature</th>\n",
       "      <th>Dew Point</th>\n",
       "      <th>Humidity</th>\n",
       "      <th>Wind</th>\n",
       "      <th>Wind Speed</th>\n",
       "      <th>Wind Gust</th>\n",
       "      <th>Pressure</th>\n",
       "      <th>Precip.</th>\n",
       "      <th>Condition</th>\n",
       "    </tr>\n",
       "  </thead>\n",
       "  <tbody>\n",
       "    <tr>\n",
       "      <th>0</th>\n",
       "      <td>00:00:00</td>\n",
       "      <td>66 °F</td>\n",
       "      <td>55 °F</td>\n",
       "      <td>68 %</td>\n",
       "      <td>ESE</td>\n",
       "      <td>16 mph</td>\n",
       "      <td>0 mph</td>\n",
       "      <td>29.84 in</td>\n",
       "      <td>0.0 in</td>\n",
       "      <td>Cloudy</td>\n",
       "    </tr>\n",
       "    <tr>\n",
       "      <th>1</th>\n",
       "      <td>00:30:00</td>\n",
       "      <td>64 °F</td>\n",
       "      <td>57 °F</td>\n",
       "      <td>77 %</td>\n",
       "      <td>E</td>\n",
       "      <td>10 mph</td>\n",
       "      <td>0 mph</td>\n",
       "      <td>29.81 in</td>\n",
       "      <td>0.0 in</td>\n",
       "      <td>Mostly Cloudy</td>\n",
       "    </tr>\n",
       "    <tr>\n",
       "      <th>2</th>\n",
       "      <td>01:00:00</td>\n",
       "      <td>64 °F</td>\n",
       "      <td>57 °F</td>\n",
       "      <td>77 %</td>\n",
       "      <td>E</td>\n",
       "      <td>6 mph</td>\n",
       "      <td>0 mph</td>\n",
       "      <td>29.84 in</td>\n",
       "      <td>0.0 in</td>\n",
       "      <td>Mostly Cloudy</td>\n",
       "    </tr>\n",
       "    <tr>\n",
       "      <th>3</th>\n",
       "      <td>01:30:00</td>\n",
       "      <td>63 °F</td>\n",
       "      <td>59 °F</td>\n",
       "      <td>88 %</td>\n",
       "      <td>E</td>\n",
       "      <td>7 mph</td>\n",
       "      <td>0 mph</td>\n",
       "      <td>29.81 in</td>\n",
       "      <td>0.0 in</td>\n",
       "      <td>Mostly Cloudy</td>\n",
       "    </tr>\n",
       "    <tr>\n",
       "      <th>4</th>\n",
       "      <td>02:00:00</td>\n",
       "      <td>63 °F</td>\n",
       "      <td>59 °F</td>\n",
       "      <td>88 %</td>\n",
       "      <td>ESE</td>\n",
       "      <td>10 mph</td>\n",
       "      <td>0 mph</td>\n",
       "      <td>29.81 in</td>\n",
       "      <td>0.0 in</td>\n",
       "      <td>Mostly Cloudy</td>\n",
       "    </tr>\n",
       "  </tbody>\n",
       "</table>\n",
       "</div>"
      ],
      "text/plain": [
       "       Time Temperature Dew Point Humidity Wind Wind Speed Wind Gust  \\\n",
       "0  00:00:00       66 °F     55 °F     68 %  ESE     16 mph     0 mph   \n",
       "1  00:30:00       64 °F     57 °F     77 %    E     10 mph     0 mph   \n",
       "2  01:00:00       64 °F     57 °F     77 %    E      6 mph     0 mph   \n",
       "3  01:30:00       63 °F     59 °F     88 %    E      7 mph     0 mph   \n",
       "4  02:00:00       63 °F     59 °F     88 %  ESE     10 mph     0 mph   \n",
       "\n",
       "   Pressure Precip.      Condition  \n",
       "0  29.84 in  0.0 in         Cloudy  \n",
       "1  29.81 in  0.0 in  Mostly Cloudy  \n",
       "2  29.84 in  0.0 in  Mostly Cloudy  \n",
       "3  29.81 in  0.0 in  Mostly Cloudy  \n",
       "4  29.81 in  0.0 in  Mostly Cloudy  "
      ]
     },
     "execution_count": 4,
     "metadata": {},
     "output_type": "execute_result"
    }
   ],
   "source": [
    "df_final.head()"
   ]
  },
  {
   "cell_type": "code",
   "execution_count": 5,
   "metadata": {},
   "outputs": [],
   "source": [
    "df_final['Time'] = pd.to_datetime(df_final['Time'])"
   ]
  },
  {
   "cell_type": "code",
   "execution_count": 6,
   "metadata": {},
   "outputs": [],
   "source": [
    "sel_col = ['Temperature', 'Dew Point', 'Humidity', 'Wind Speed', 'Wind Gust', 'Pressure', 'Precip.']\n",
    "\n",
    "for col in sel_col: \n",
    "    df_final[col] = df_final[col].str.extract('(\\d+)', expand=False)"
   ]
  },
  {
   "cell_type": "code",
   "execution_count": 7,
   "metadata": {},
   "outputs": [
    {
     "data": {
      "text/plain": [
       "Time           0\n",
       "Temperature    0\n",
       "Dew Point      6\n",
       "Humidity       0\n",
       "Wind           0\n",
       "Wind Speed     0\n",
       "Wind Gust      0\n",
       "Pressure       1\n",
       "Precip.        0\n",
       "Condition      0\n",
       "dtype: int64"
      ]
     },
     "execution_count": 7,
     "metadata": {},
     "output_type": "execute_result"
    }
   ],
   "source": [
    "df_final.isna().sum()"
   ]
  },
  {
   "cell_type": "code",
   "execution_count": 8,
   "metadata": {},
   "outputs": [
    {
     "data": {
      "text/plain": [
       "Time           0\n",
       "Temperature    0\n",
       "Dew Point      0\n",
       "Humidity       0\n",
       "Wind           0\n",
       "Wind Speed     0\n",
       "Wind Gust      0\n",
       "Pressure       0\n",
       "Precip.        0\n",
       "Condition      0\n",
       "dtype: int64"
      ]
     },
     "execution_count": 8,
     "metadata": {},
     "output_type": "execute_result"
    }
   ],
   "source": [
    "col_has_na = ['Temperature', 'Dew Point', 'Humidity', 'Wind', 'Wind Speed', 'Pressure', 'Condition']\n",
    "\n",
    "for col in col_has_na:\n",
    "    df_final[col] = df_final[col].fillna(method = 'bfill')\n",
    "\n",
    "df_final.isna().sum()    "
   ]
  },
  {
   "cell_type": "code",
   "execution_count": 9,
   "metadata": {},
   "outputs": [],
   "source": [
    "df_final['Temperature'] = round((df_final['Temperature'].astype(int) - 32) / (9/5),2)\n",
    "df_final['Dew Point'] = round((df_final['Dew Point'].astype(int) - 32) / (9/5),2)"
   ]
  },
  {
   "cell_type": "code",
   "execution_count": 9,
   "metadata": {},
   "outputs": [],
   "source": [
    "df_final = df_final.rename(columns = { 'Time' : 'datetime', 'Temperature' :'temperature(celcius)', 'Dew Point': 'dew_point(celcius)', 'Humidity' :'humidity(%)',\n",
    "                                        'Wind Speed': 'wind_speed(mph)', 'Wind Gust': 'wind_gush(mph)', 'Pressure': 'pressure(in)', 'Precip.' : 'precip.(in)'})"
   ]
  },
  {
   "cell_type": "code",
   "execution_count": 10,
   "metadata": {},
   "outputs": [],
   "source": [
    "path = Path(os.getcwd())\n",
    "levels_up = 1\n",
    "to_folder = path.parents[levels_up]\n",
    "os.chdir(to_folder)\n",
    "df.to_csv( \"edited/WU_merged/wu_weather_merged.csv\", index=False, encoding='utf-8-sig')"
   ]
  }
 ],
 "metadata": {
  "interpreter": {
   "hash": "e7094287f254496241cc358000a25c437191d65d3529ccccea7eb8767c2e14fd"
  },
  "kernelspec": {
   "display_name": "Python 3.8.5 ('cits5508-2022')",
   "language": "python",
   "name": "python3"
  },
  "language_info": {
   "codemirror_mode": {
    "name": "ipython",
    "version": 3
   },
   "file_extension": ".py",
   "mimetype": "text/x-python",
   "name": "python",
   "nbconvert_exporter": "python",
   "pygments_lexer": "ipython3",
   "version": "3.8.5"
  },
  "orig_nbformat": 4
 },
 "nbformat": 4,
 "nbformat_minor": 2
}
