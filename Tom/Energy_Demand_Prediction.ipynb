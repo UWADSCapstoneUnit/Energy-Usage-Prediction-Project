{
  "nbformat": 4,
  "nbformat_minor": 0,
  "metadata": {
    "colab": {
      "provenance": [],
      "collapsed_sections": []
    },
    "kernelspec": {
      "name": "python3",
      "display_name": "Python 3"
    },
    "language_info": {
      "name": "python"
    }
  },
  "cells": [
    {
      "cell_type": "code",
      "execution_count": 19,
      "metadata": {
        "id": "-mNrGXawGpNZ"
      },
      "outputs": [],
      "source": [
        "import pandas as pd\n",
        "import datetime\n",
        "import numpy as np\n",
        "import matplotlib.pyplot as plt\n",
        "import seaborn as sns\n",
        "import tensorflow as tf\n",
        "import IPython\n",
        "import IPython.display\n",
        "import holidays\n",
        "from sklearn.preprocessing import StandardScaler\n",
        "from sklearn import metrics as m\n",
        "from math import sqrt\n",
        "import holidays\n",
        "from sklearn import feature_selection as fs\n",
        "from sklearn import model_selection as ms\n",
        "import numpy.random as nr\n",
        "from keras.models import Sequential\n",
        "from keras.layers import Dense\n",
        "from keras.layers import Flatten\n",
        "from keras.layers import RepeatVector\n",
        "from keras.layers import TimeDistributed\n",
        "import pickle\n",
        "from array import array\n",
        "import random as rn\n",
        "import itertools"
      ]
    },
    {
      "cell_type": "code",
      "source": [
        "from google.colab import drive\n",
        "drive.mount('/content/drive')"
      ],
      "metadata": {
        "colab": {
          "base_uri": "https://localhost:8080/"
        },
        "id": "prWad_z6MBbc",
        "outputId": "4e2aaa0c-5e5a-473f-cbf1-9c19f7955818"
      },
      "execution_count": 20,
      "outputs": [
        {
          "output_type": "stream",
          "name": "stdout",
          "text": [
            "Drive already mounted at /content/drive; to attempt to forcibly remount, call drive.mount(\"/content/drive\", force_remount=True).\n"
          ]
        }
      ]
    },
    {
      "cell_type": "code",
      "source": [
        "#read in data\n",
        "data = pd.read_csv(\"drive/MyDrive/Colab Notebooks/dscapstone/aemo_wu_merged2.csv\")\n",
        "timeextract = pd.read_csv(\"drive/MyDrive/Colab Notebooks/dscapstone/aemo_wu_merged1.csv\")"
      ],
      "metadata": {
        "id": "xlWMje2QMCv2"
      },
      "execution_count": 21,
      "outputs": []
    },
    {
      "cell_type": "code",
      "source": [
        "#Using a long winded middle join to deal with the worst feature ever implemented in python - automatic exclusion of nuisance columns\n",
        "#which is trying to delete my wind column\n",
        "data['timestamp'] = pd.to_datetime(data['timestamp'])\n",
        "timeextract['timestamp'] = pd.to_datetime(timeextract['timestamp'])\n",
        "data1 = data\n",
        "data =data.groupby(pd.Grouper(key='timestamp', freq='30min')).mean().dropna()\n",
        "timeextract=timeextract[['timestamp', 'Operational Demand (MW)']]\n",
        "df_merged = pd.merge_asof(data.sort_values('timestamp'),timeextract.sort_values('timestamp'), on='timestamp',allow_exact_matches=True)\n",
        "data2 = data1[['timestamp', 'Wind']]\n",
        "data2['timestamp'] = pd.to_datetime(data2['timestamp'])\n",
        "data = pd.merge(df_merged, data2, on='timestamp', how='inner')\n",
        "data.pop('Operational Demand (MW)_x')\n",
        "data = data.rename(columns={'Operational Demand (MW)_y': 'Operational Demand (MW)'})"
      ],
      "metadata": {
        "colab": {
          "base_uri": "https://localhost:8080/"
        },
        "id": "EAbEbogjY4pj",
        "outputId": "3e36a07f-febd-473b-e8ab-4f7c217c2958"
      },
      "execution_count": 22,
      "outputs": [
        {
          "output_type": "stream",
          "name": "stderr",
          "text": [
            "/usr/local/lib/python3.7/dist-packages/ipykernel_launcher.py:10: SettingWithCopyWarning: \n",
            "A value is trying to be set on a copy of a slice from a DataFrame.\n",
            "Try using .loc[row_indexer,col_indexer] = value instead\n",
            "\n",
            "See the caveats in the documentation: https://pandas.pydata.org/pandas-docs/stable/user_guide/indexing.html#returning-a-view-versus-a-copy\n",
            "  # Remove the CWD from sys.path while we load stuff.\n"
          ]
        }
      ]
    },
    {
      "cell_type": "markdown",
      "source": [
        "Feature Engineering"
      ],
      "metadata": {
        "id": "QsVNLdB6Opa-"
      }
    },
    {
      "cell_type": "code",
      "source": [
        "#consolidate data into hourly instead of half hourly\n",
        "data = data.iloc[:-1 , :]\n",
        "data = data.iloc[1: , :]\n",
        "df1 = data[data.index % 2 != 0]\n",
        "df2 = data[data.index % 2 == 0]\n",
        "df1 = df1.reset_index(drop=True)\n",
        "df2 = df2.reset_index(drop=True)\n",
        "\n",
        "df1demand = df1.pop('Operational Demand (MW)')\n",
        "df2demand = df2.pop('Operational Demand (MW)')\n",
        "total_demand = df1demand+df2demand\n",
        "data = df2.join(total_demand)"
      ],
      "metadata": {
        "id": "9rAcBlMvN5oc"
      },
      "execution_count": 23,
      "outputs": []
    },
    {
      "cell_type": "code",
      "source": [
        "#remove columns with bad data, high co-correlation, little impact, or low p values\n",
        "data = data.drop(columns = ['Unnamed: 0', 'Precip.', 'Wind Gust', 'Humidity'])"
      ],
      "metadata": {
        "id": "5UkGRyrmOP7F"
      },
      "execution_count": 24,
      "outputs": []
    },
    {
      "cell_type": "code",
      "source": [
        "#Feature Engineering time data\n",
        "data['date'] = pd.to_datetime(data.pop('timestamp'), format='%Y.%m.%d %H:%M:%S')\n",
        "data['hour'] = data['date'].dt.hour\n",
        "data['day'] = data['date'].dt.dayofyear\n",
        "data['week'] = data['date'].dt.week\n",
        "data['month'] = data['date'].dt.month\n",
        "data['weekday'] = data['date'].dt.day_name()\n",
        "\n",
        "#check whether any given day is a holiday in Western Australia\n",
        "WA_holidays = holidays.AU(subdiv='WA')\n",
        "data['holiday'] = [1 if x in WA_holidays else 0 for x in data['date']]\n",
        "\n",
        "#creating new indicator variable which informs whether any given day is a working day\n",
        "data['isWorkDay'] = data.apply(lambda x: 'no' if ((x['holiday'] == 1) or\n",
        "                                             (x['weekday'] in ['Saturday', 'Sunday'])) else 'yes', axis=1)\n",
        "workdaybin = pd.get_dummies(data[\"isWorkDay\"])\n",
        "WorkingDay = workdaybin['yes']\n",
        "data = data.join(WorkingDay)\n",
        "data.rename(columns = {'yes':'WorkingDay'}, inplace = True)\n",
        "\n",
        "#drop date cols which will not be used in the model\n",
        "data = data.drop(columns = ['holiday', 'weekday', 'isWorkDay', 'day'])\n",
        "\n",
        "#change new date columns into categorical variables\n",
        "cat_cols = ['hour','week','month','WorkingDay']"
      ],
      "metadata": {
        "colab": {
          "base_uri": "https://localhost:8080/"
        },
        "id": "1qqVbty-PGkU",
        "outputId": "6d61cdbf-6a8d-41d8-e521-75c7d93e53ac"
      },
      "execution_count": 25,
      "outputs": [
        {
          "output_type": "stream",
          "name": "stderr",
          "text": [
            "/usr/local/lib/python3.7/dist-packages/ipykernel_launcher.py:5: FutureWarning: Series.dt.weekofyear and Series.dt.week have been deprecated.  Please use Series.dt.isocalendar().week instead.\n",
            "  \"\"\"\n"
          ]
        }
      ]
    },
    {
      "cell_type": "markdown",
      "source": [
        "Creating a vector variable from wind direction and speed\n",
        "\n"
      ],
      "metadata": {
        "id": "nMu0u477P_-t"
      }
    },
    {
      "cell_type": "code",
      "source": [
        "#Function to transform categorical wind direction into angle\n",
        "def dir_to_degrees(dir):\n",
        "  ang = 22.5\n",
        "  if dir == 'N':\n",
        "    dir = ang*0\n",
        "  elif dir == 'NNE':\n",
        "    dir = ang*1\n",
        "  elif dir == 'NE':\n",
        "    dir = ang*2\n",
        "  elif dir == 'ENE':\n",
        "    dir = ang*3\n",
        "  elif dir == 'E':\n",
        "    dir = ang*4\n",
        "  elif dir == 'ESE':\n",
        "    dir = ang*5\n",
        "  elif dir == 'SE':\n",
        "    dir = ang*6\n",
        "  elif dir == 'SSE':\n",
        "    dir = ang*7\n",
        "  elif dir == 'S':\n",
        "    dir = ang*8\n",
        "  elif dir == 'SSW':\n",
        "    dir = ang*9\n",
        "  elif dir == 'SW':\n",
        "    dir = ang*10\n",
        "  elif dir == 'WSW':\n",
        "    dir = ang*11\n",
        "  elif dir == 'W':\n",
        "    dir = ang*12\n",
        "  elif dir == 'WNW':\n",
        "    dir = ang*13\n",
        "  elif dir == 'NW':\n",
        "    dir = ang*14\n",
        "  elif dir == 'NNW':\n",
        "    dir = ang*15\n",
        "  elif dir == 'CALM' or 'VAR':\n",
        "    dir = 0\n",
        "  return dir\n",
        "#applying above function\n",
        "data['Wind'] = data['Wind'].map(dir_to_degrees)\n",
        "\n",
        "#collecting wind speed variable\n",
        "wv = data.pop('Wind Speed')\n",
        "\n",
        "# Convert degrees column created with above function to radians.\n",
        "wd_rad = data.pop('Wind')*np.pi / 180\n",
        "\n",
        "# Calculate the wind x and y components using radians and wind speed\n",
        "data['Wx'] = wv*np.cos(wd_rad)\n",
        "data['Wy'] = wv*np.sin(wd_rad)\n",
        "\n",
        "#visualise new wind vector\n",
        "plt.hist2d(data['Wx'], data['Wy'], bins=(50, 50), vmax=400)\n",
        "plt.colorbar()\n",
        "plt.xlabel('Wind X [m/s]')\n",
        "plt.ylabel('Wind Y [m/s]')\n",
        "ax = plt.gca()\n",
        "ax.axis('tight')\n",
        "plt.show()"
      ],
      "metadata": {
        "colab": {
          "base_uri": "https://localhost:8080/",
          "height": 283
        },
        "id": "4ZJtW7InPwOg",
        "outputId": "1a993ab0-f8e2-4d80-8229-ba67617ddfe9"
      },
      "execution_count": 26,
      "outputs": [
        {
          "output_type": "display_data",
          "data": {
            "text/plain": [
              "<Figure size 432x288 with 2 Axes>"
            ],
            "image/png": "[encoded data removed]"
          },
          "metadata": {
            "needs_background": "light"
          }
        }
      ]
    },
    {
      "cell_type": "markdown",
      "source": [
        "Renaming columns to more suitable names"
      ],
      "metadata": {
        "id": "SxAOe-moQ2MB"
      }
    },
    {
      "cell_type": "code",
      "source": [
        "data = data.rename({'Temperature': 'Temp', 'Operational Demand (MW)':'Demand', 'Dew Point': 'dew_point', 'Pressure': 'pressure'}, axis=1)"
      ],
      "metadata": {
        "id": "d7mD5Ak6CHmr"
      },
      "execution_count": 27,
      "outputs": []
    },
    {
      "cell_type": "code",
      "source": [],
      "metadata": {
        "id": "8QJOifSMzPSh"
      },
      "execution_count": 27,
      "outputs": []
    },
    {
      "cell_type": "markdown",
      "source": [
        "Create Metric assessment function"
      ],
      "metadata": {
        "id": "rafMe8Y_RDUe"
      }
    },
    {
      "cell_type": "code",
      "source": [
        "#creating metrics to measure model performance\n",
        "def metricf(fcast, test):\n",
        "  mae = m.mean_absolute_error(test,fcast)\n",
        "  print('MAE : %3f' % mae)\n",
        "  mse = m.mean_squared_error(test,fcast)\n",
        "  print('MSE : %3f' % mse)\n",
        "  rmse = sqrt(mse)\n",
        "  print('RMSE : %3f' % rmse)\n",
        "  mape = m.mean_absolute_percentage_error(test,fcast)\n",
        "  print('MAPE : %3f' % mape)"
      ],
      "metadata": {
        "id": "dxQMNqeCQ7qO"
      },
      "execution_count": 28,
      "outputs": []
    },
    {
      "cell_type": "code",
      "source": [
        "# Function to plot graph of last 3 days of summer predictions vs Actual\n",
        "def plot_result(ypred, yactual, model_name = None):\n",
        "  pred = np.stack([i for i in ypred]).reshape(-1,1)\n",
        "  tester = np.stack([i for i in test]).reshape(-1,1)\n",
        "  pred = pd.DataFrame(pred)\n",
        "  tester = pd.DataFrame(tester)\n",
        "  result = pd.concat([pred, tester],ignore_index=True, axis=1)\n",
        "  plt.figure(figsize=(25,18))\n",
        "  plt.plot(result[-72:][0], color = 'blue', label=\"Forecasted Demand\")\n",
        "  plt.plot(result[-72:][1],color = 'green', label=\"Actual Demand\")\n",
        "  plt.legend(loc='upper left')\n",
        "  plt.title('Forecasted and Actual Demand of {}'.format(model_name))\n",
        "  plt.xlabel('Hours')\n",
        "  plt.ylabel('Demand')\n",
        "  print('Accuracy: {}'.format(m.r2_score(pred, tester)))"
      ],
      "metadata": {
        "id": "SCneexgGDP5Q"
      },
      "execution_count": 29,
      "outputs": []
    },
    {
      "cell_type": "markdown",
      "source": [
        "Adding 24 Hours of Energy Demand Lag Features to each observation"
      ],
      "metadata": {
        "id": "CykYhuHgSZ4A"
      }
    },
    {
      "cell_type": "code",
      "source": [
        "#set index on date\n",
        "lag_df = data.set_index('date')\n",
        "\n",
        "#remove all dates after 2022-03-01\n",
        "lag_df = lag_df[:'2022-03-01']\n",
        "lag_df= lag_df[:-24]\n",
        "# getting 24 hours lag\n",
        "for i in range(24):\n",
        "  lag_df['lag' + str(i+1)] = lag_df['Demand'].shift(i+1)\n",
        "#drop the first 24 hours NaN values\n",
        "lag = lag_df.dropna()"
      ],
      "metadata": {
        "id": "1nlTBEv3RG8f"
      },
      "execution_count": 30,
      "outputs": []
    },
    {
      "cell_type": "code",
      "source": [
        "#taking way too long to train so removed some early data between 2006 and 2010.\n",
        "lag = lag[30000:]"
      ],
      "metadata": {
        "id": "1oGOQOBiyb7D"
      },
      "execution_count": 31,
      "outputs": []
    },
    {
      "cell_type": "code",
      "source": [
        "lag"
      ],
      "metadata": {
        "colab": {
          "base_uri": "https://localhost:8080/",
          "height": 866
        },
        "id": "vikeZ3X4yxGb",
        "outputId": "27666f17-783b-48f1-8cfb-c098e4d848ad"
      },
      "execution_count": 32,
      "outputs": [
        {
          "output_type": "execute_result",
          "data": {
            "text/plain": [
              "                      Temp  dew_point  pressure    Demand  hour  week  month  \\\n",
              "date                                                                           \n",
              "2010-04-05 10:30:00  21.11      12.22      29.0  3485.316    10    14      4   \n",
              "2010-04-05 11:30:00  21.11      12.22      29.0  3511.746    11    14      4   \n",
              "2010-04-05 12:30:00  22.22      12.22      29.0  3519.910    12    14      4   \n",
              "2010-04-05 13:30:00  22.78      12.78      29.0  3477.010    13    14      4   \n",
              "2010-04-05 14:30:00  22.22      12.22      29.0  3487.798    14    14      4   \n",
              "...                    ...        ...       ...       ...   ...   ...    ...   \n",
              "2022-02-28 19:00:00  23.89      17.78      29.0  6236.798    19     9      2   \n",
              "2022-02-28 20:00:00  22.78      17.78      29.0  5887.228    20     9      2   \n",
              "2022-02-28 21:00:00  22.22      17.78      29.0  5420.106    21     9      2   \n",
              "2022-02-28 22:00:00  22.22      17.78      29.0  5006.428    22     9      2   \n",
              "2022-02-28 23:00:00  22.22      17.78      29.0  4603.156    23     9      2   \n",
              "\n",
              "                     WorkingDay            Wx         Wy  ...     lag15  \\\n",
              "date                                                      ...             \n",
              "2010-04-05 10:30:00           0  2.000000e+00   0.000000  ...  3634.976   \n",
              "2010-04-05 11:30:00           0 -5.543277e+00  -2.296101  ...  3862.282   \n",
              "2010-04-05 12:30:00           0 -1.469576e-15  -8.000000  ...  3727.924   \n",
              "2010-04-05 13:30:00           0 -1.836970e-15 -10.000000  ...  3529.282   \n",
              "2010-04-05 14:30:00           0 -3.444151e+00  -8.314916  ...  3318.908   \n",
              "...                         ...           ...        ...  ...       ...   \n",
              "2022-02-28 19:00:00           1 -5.357568e+00 -12.934313  ...  3999.532   \n",
              "2022-02-28 20:00:00           1 -1.060660e+01 -10.606602  ...  4132.712   \n",
              "2022-02-28 21:00:00           1 -9.238795e+00  -3.826834  ...  4379.884   \n",
              "2022-02-28 22:00:00           1 -1.108655e+01  -4.592201  ...  4628.398   \n",
              "2022-02-28 23:00:00           1 -9.238795e+00  -3.826834  ...  4605.212   \n",
              "\n",
              "                        lag16     lag17     lag18     lag19     lag20  \\\n",
              "date                                                                    \n",
              "2010-04-05 10:30:00  3431.282  3358.460  3316.372  3320.590  3372.156   \n",
              "2010-04-05 11:30:00  3634.976  3431.282  3358.460  3316.372  3320.590   \n",
              "2010-04-05 12:30:00  3862.282  3634.976  3431.282  3358.460  3316.372   \n",
              "2010-04-05 13:30:00  3727.924  3862.282  3634.976  3431.282  3358.460   \n",
              "2010-04-05 14:30:00  3529.282  3727.924  3862.282  3634.976  3431.282   \n",
              "...                       ...       ...       ...       ...       ...   \n",
              "2022-02-28 19:00:00  4059.926  4136.738  4264.370  4467.146  4815.184   \n",
              "2022-02-28 20:00:00  3999.532  4059.926  4136.738  4264.370  4467.146   \n",
              "2022-02-28 21:00:00  4132.712  3999.532  4059.926  4136.738  4264.370   \n",
              "2022-02-28 22:00:00  4379.884  4132.712  3999.532  4059.926  4136.738   \n",
              "2022-02-28 23:00:00  4628.398  4379.884  4132.712  3999.532  4059.926   \n",
              "\n",
              "                        lag21     lag22     lag23     lag24  \n",
              "date                                                         \n",
              "2010-04-05 10:30:00  3397.280  3400.990  3368.176  3222.568  \n",
              "2010-04-05 11:30:00  3372.156  3397.280  3400.990  3368.176  \n",
              "2010-04-05 12:30:00  3320.590  3372.156  3397.280  3400.990  \n",
              "2010-04-05 13:30:00  3316.372  3320.590  3372.156  3397.280  \n",
              "2010-04-05 14:30:00  3358.460  3316.372  3320.590  3372.156  \n",
              "...                       ...       ...       ...       ...  \n",
              "2022-02-28 19:00:00  5284.172  5865.806  6342.066  6627.516  \n",
              "2022-02-28 20:00:00  4815.184  5284.172  5865.806  6342.066  \n",
              "2022-02-28 21:00:00  4467.146  4815.184  5284.172  5865.806  \n",
              "2022-02-28 22:00:00  4264.370  4467.146  4815.184  5284.172  \n",
              "2022-02-28 23:00:00  4136.738  4264.370  4467.146  4815.184  \n",
              "\n",
              "[102424 rows x 34 columns]"
            ],
            "text/html": [
              "\n",
              "  <div id=\"df-80e61c16-b8a7-4a28-a82d-b849f771d5c0\">\n",
              "    <div class=\"colab-df-container\">\n",
              "      <div>\n",
              "<style scoped>\n",
              "    .dataframe tbody tr th:only-of-type {\n",
              "        vertical-align: middle;\n",
              "    }\n",
              "\n",
              "    .dataframe tbody tr th {\n",
              "        vertical-align: top;\n",
              "    }\n",
              "\n",
              "    .dataframe thead th {\n",
              "        text-align: right;\n",
              "    }\n",
              "</style>\n",
              "<table border=\"1\" class=\"dataframe\">\n",
              "  <thead>\n",
              "    <tr style=\"text-align: right;\">\n",
              "      <th></th>\n",
              "      <th>Temp</th>\n",
              "      <th>dew_point</th>\n",
              "      <th>pressure</th>\n",
              "      <th>Demand</th>\n",
              "      <th>hour</th>\n",
              "      <th>week</th>\n",
              "      <th>month</th>\n",
              "      <th>WorkingDay</th>\n",
              "      <th>Wx</th>\n",
              "      <th>Wy</th>\n",
              "      <th>...</th>\n",
              "      <th>lag15</th>\n",
              "      <th>lag16</th>\n",
              "      <th>lag17</th>\n",
              "      <th>lag18</th>\n",
              "      <th>lag19</th>\n",
              "      <th>lag20</th>\n",
              "      <th>lag21</th>\n",
              "      <th>lag22</th>\n",
              "      <th>lag23</th>\n",
              "      <th>lag24</th>\n",
              "    </tr>\n",
              "    <tr>\n",
              "      <th>date</th>\n",
              "      <th></th>\n",
              "      <th></th>\n",
              "      <th></th>\n",
              "      <th></th>\n",
              "      <th></th>\n",
              "      <th></th>\n",
              "      <th></th>\n",
              "      <th></th>\n",
              "      <th></th>\n",
              "      <th></th>\n",
              "      <th></th>\n",
              "      <th></th>\n",
              "      <th></th>\n",
              "      <th></th>\n",
              "      <th></th>\n",
              "      <th></th>\n",
              "      <th></th>\n",
              "      <th></th>\n",
              "      <th></th>\n",
              "      <th></th>\n",
              "      <th></th>\n",
              "    </tr>\n",
              "  </thead>\n",
              "  <tbody>\n",
              "    <tr>\n",
              "      <th>2010-04-05 10:30:00</th>\n",
              "      <td>21.11</td>\n",
              "      <td>12.22</td>\n",
              "      <td>29.0</td>\n",
              "      <td>3485.316</td>\n",
              "      <td>10</td>\n",
              "      <td>14</td>\n",
              "      <td>4</td>\n",
              "      <td>0</td>\n",
              "      <td>2.000000e+00</td>\n",
              "      <td>0.000000</td>\n",
              "      <td>...</td>\n",
              "      <td>3634.976</td>\n",
              "      <td>3431.282</td>\n",
              "      <td>3358.460</td>\n",
              "      <td>3316.372</td>\n",
              "      <td>3320.590</td>\n",
              "      <td>3372.156</td>\n",
              "      <td>3397.280</td>\n",
              "      <td>3400.990</td>\n",
              "      <td>3368.176</td>\n",
              "      <td>3222.568</td>\n",
              "    </tr>\n",
              "    <tr>\n",
              "      <th>2010-04-05 11:30:00</th>\n",
              "      <td>21.11</td>\n",
              "      <td>12.22</td>\n",
              "      <td>29.0</td>\n",
              "      <td>3511.746</td>\n",
              "      <td>11</td>\n",
              "      <td>14</td>\n",
              "      <td>4</td>\n",
              "      <td>0</td>\n",
              "      <td>-5.543277e+00</td>\n",
              "      <td>-2.296101</td>\n",
              "      <td>...</td>\n",
              "      <td>3862.282</td>\n",
              "      <td>3634.976</td>\n",
              "      <td>3431.282</td>\n",
              "      <td>3358.460</td>\n",
              "      <td>3316.372</td>\n",
              "      <td>3320.590</td>\n",
              "      <td>3372.156</td>\n",
              "      <td>3397.280</td>\n",
              "      <td>3400.990</td>\n",
              "      <td>3368.176</td>\n",
              "    </tr>\n",
              "    <tr>\n",
              "      <th>2010-04-05 12:30:00</th>\n",
              "      <td>22.22</td>\n",
              "      <td>12.22</td>\n",
              "      <td>29.0</td>\n",
              "      <td>3519.910</td>\n",
              "      <td>12</td>\n",
              "      <td>14</td>\n",
              "      <td>4</td>\n",
              "      <td>0</td>\n",
              "      <td>-1.469576e-15</td>\n",
              "      <td>-8.000000</td>\n",
              "      <td>...</td>\n",
              "      <td>3727.924</td>\n",
              "      <td>3862.282</td>\n",
              "      <td>3634.976</td>\n",
              "      <td>3431.282</td>\n",
              "      <td>3358.460</td>\n",
              "      <td>3316.372</td>\n",
              "      <td>3320.590</td>\n",
              "      <td>3372.156</td>\n",
              "      <td>3397.280</td>\n",
              "      <td>3400.990</td>\n",
              "    </tr>\n",
              "    <tr>\n",
              "      <th>2010-04-05 13:30:00</th>\n",
              "      <td>22.78</td>\n",
              "      <td>12.78</td>\n",
              "      <td>29.0</td>\n",
              "      <td>3477.010</td>\n",
              "      <td>13</td>\n",
              "      <td>14</td>\n",
              "      <td>4</td>\n",
              "      <td>0</td>\n",
              "      <td>-1.836970e-15</td>\n",
              "      <td>-10.000000</td>\n",
              "      <td>...</td>\n",
              "      <td>3529.282</td>\n",
              "      <td>3727.924</td>\n",
              "      <td>3862.282</td>\n",
              "      <td>3634.976</td>\n",
              "      <td>3431.282</td>\n",
              "      <td>3358.460</td>\n",
              "      <td>3316.372</td>\n",
              "      <td>3320.590</td>\n",
              "      <td>3372.156</td>\n",
              "      <td>3397.280</td>\n",
              "    </tr>\n",
              "    <tr>\n",
              "      <th>2010-04-05 14:30:00</th>\n",
              "      <td>22.22</td>\n",
              "      <td>12.22</td>\n",
              "      <td>29.0</td>\n",
              "      <td>3487.798</td>\n",
              "      <td>14</td>\n",
              "      <td>14</td>\n",
              "      <td>4</td>\n",
              "      <td>0</td>\n",
              "      <td>-3.444151e+00</td>\n",
              "      <td>-8.314916</td>\n",
              "      <td>...</td>\n",
              "      <td>3318.908</td>\n",
              "      <td>3529.282</td>\n",
              "      <td>3727.924</td>\n",
              "      <td>3862.282</td>\n",
              "      <td>3634.976</td>\n",
              "      <td>3431.282</td>\n",
              "      <td>3358.460</td>\n",
              "      <td>3316.372</td>\n",
              "      <td>3320.590</td>\n",
              "      <td>3372.156</td>\n",
              "    </tr>\n",
              "    <tr>\n",
              "      <th>...</th>\n",
              "      <td>...</td>\n",
              "      <td>...</td>\n",
              "      <td>...</td>\n",
              "      <td>...</td>\n",
              "      <td>...</td>\n",
              "      <td>...</td>\n",
              "      <td>...</td>\n",
              "      <td>...</td>\n",
              "      <td>...</td>\n",
              "      <td>...</td>\n",
              "      <td>...</td>\n",
              "      <td>...</td>\n",
              "      <td>...</td>\n",
              "      <td>...</td>\n",
              "      <td>...</td>\n",
              "      <td>...</td>\n",
              "      <td>...</td>\n",
              "      <td>...</td>\n",
              "      <td>...</td>\n",
              "      <td>...</td>\n",
              "      <td>...</td>\n",
              "    </tr>\n",
              "    <tr>\n",
              "      <th>2022-02-28 19:00:00</th>\n",
              "      <td>23.89</td>\n",
              "      <td>17.78</td>\n",
              "      <td>29.0</td>\n",
              "      <td>6236.798</td>\n",
              "      <td>19</td>\n",
              "      <td>9</td>\n",
              "      <td>2</td>\n",
              "      <td>1</td>\n",
              "      <td>-5.357568e+00</td>\n",
              "      <td>-12.934313</td>\n",
              "      <td>...</td>\n",
              "      <td>3999.532</td>\n",
              "      <td>4059.926</td>\n",
              "      <td>4136.738</td>\n",
              "      <td>4264.370</td>\n",
              "      <td>4467.146</td>\n",
              "      <td>4815.184</td>\n",
              "      <td>5284.172</td>\n",
              "      <td>5865.806</td>\n",
              "      <td>6342.066</td>\n",
              "      <td>6627.516</td>\n",
              "    </tr>\n",
              "    <tr>\n",
              "      <th>2022-02-28 20:00:00</th>\n",
              "      <td>22.78</td>\n",
              "      <td>17.78</td>\n",
              "      <td>29.0</td>\n",
              "      <td>5887.228</td>\n",
              "      <td>20</td>\n",
              "      <td>9</td>\n",
              "      <td>2</td>\n",
              "      <td>1</td>\n",
              "      <td>-1.060660e+01</td>\n",
              "      <td>-10.606602</td>\n",
              "      <td>...</td>\n",
              "      <td>4132.712</td>\n",
              "      <td>3999.532</td>\n",
              "      <td>4059.926</td>\n",
              "      <td>4136.738</td>\n",
              "      <td>4264.370</td>\n",
              "      <td>4467.146</td>\n",
              "      <td>4815.184</td>\n",
              "      <td>5284.172</td>\n",
              "      <td>5865.806</td>\n",
              "      <td>6342.066</td>\n",
              "    </tr>\n",
              "    <tr>\n",
              "      <th>2022-02-28 21:00:00</th>\n",
              "      <td>22.22</td>\n",
              "      <td>17.78</td>\n",
              "      <td>29.0</td>\n",
              "      <td>5420.106</td>\n",
              "      <td>21</td>\n",
              "      <td>9</td>\n",
              "      <td>2</td>\n",
              "      <td>1</td>\n",
              "      <td>-9.238795e+00</td>\n",
              "      <td>-3.826834</td>\n",
              "      <td>...</td>\n",
              "      <td>4379.884</td>\n",
              "      <td>4132.712</td>\n",
              "      <td>3999.532</td>\n",
              "      <td>4059.926</td>\n",
              "      <td>4136.738</td>\n",
              "      <td>4264.370</td>\n",
              "      <td>4467.146</td>\n",
              "      <td>4815.184</td>\n",
              "      <td>5284.172</td>\n",
              "      <td>5865.806</td>\n",
              "    </tr>\n",
              "    <tr>\n",
              "      <th>2022-02-28 22:00:00</th>\n",
              "      <td>22.22</td>\n",
              "      <td>17.78</td>\n",
              "      <td>29.0</td>\n",
              "      <td>5006.428</td>\n",
              "      <td>22</td>\n",
              "      <td>9</td>\n",
              "      <td>2</td>\n",
              "      <td>1</td>\n",
              "      <td>-1.108655e+01</td>\n",
              "      <td>-4.592201</td>\n",
              "      <td>...</td>\n",
              "      <td>4628.398</td>\n",
              "      <td>4379.884</td>\n",
              "      <td>4132.712</td>\n",
              "      <td>3999.532</td>\n",
              "      <td>4059.926</td>\n",
              "      <td>4136.738</td>\n",
              "      <td>4264.370</td>\n",
              "      <td>4467.146</td>\n",
              "      <td>4815.184</td>\n",
              "      <td>5284.172</td>\n",
              "    </tr>\n",
              "    <tr>\n",
              "      <th>2022-02-28 23:00:00</th>\n",
              "      <td>22.22</td>\n",
              "      <td>17.78</td>\n",
              "      <td>29.0</td>\n",
              "      <td>4603.156</td>\n",
              "      <td>23</td>\n",
              "      <td>9</td>\n",
              "      <td>2</td>\n",
              "      <td>1</td>\n",
              "      <td>-9.238795e+00</td>\n",
              "      <td>-3.826834</td>\n",
              "      <td>...</td>\n",
              "      <td>4605.212</td>\n",
              "      <td>4628.398</td>\n",
              "      <td>4379.884</td>\n",
              "      <td>4132.712</td>\n",
              "      <td>3999.532</td>\n",
              "      <td>4059.926</td>\n",
              "      <td>4136.738</td>\n",
              "      <td>4264.370</td>\n",
              "      <td>4467.146</td>\n",
              "      <td>4815.184</td>\n",
              "    </tr>\n",
              "  </tbody>\n",
              "</table>\n",
              "<p>102424 rows × 34 columns</p>\n",
              "</div>\n",
              "      <button class=\"colab-df-convert\" onclick=\"convertToInteractive('df-80e61c16-b8a7-4a28-a82d-b849f771d5c0')\"\n",
              "              title=\"Convert this dataframe to an interactive table.\"\n",
              "              style=\"display:none;\">\n",
              "        \n",
              "  <svg xmlns=\"http://www.w3.org/2000/svg\" height=\"24px\"viewBox=\"0 0 24 24\"\n",
              "       width=\"24px\">\n",
              "    <path d=\"M0 0h24v24H0V0z\" fill=\"none\"/>\n",
              "    <path d=\"M18.56 5.44l.94 2.06.94-2.06 2.06-.94-2.06-.94-.94-2.06-.94 2.06-2.06.94zm-11 1L8.5 8.5l.94-2.06 2.06-.94-2.06-.94L8.5 2.5l-.94 2.06-2.06.94zm10 10l.94 2.06.94-2.06 2.06-.94-2.06-.94-.94-2.06-.94 2.06-2.06.94z\"/><path d=\"M17.41 7.96l-1.37-1.37c-.4-.4-.92-.59-1.43-.59-.52 0-1.04.2-1.43.59L10.3 9.45l-7.72 7.72c-.78.78-.78 2.05 0 2.83L4 21.41c.39.39.9.59 1.41.59.51 0 1.02-.2 1.41-.59l7.78-7.78 2.81-2.81c.8-.78.8-2.07 0-2.86zM5.41 20L4 18.59l7.72-7.72 1.47 1.35L5.41 20z\"/>\n",
              "  </svg>\n",
              "      </button>\n",
              "      \n",
              "  <style>\n",
              "    .colab-df-container {\n",
              "      display:flex;\n",
              "      flex-wrap:wrap;\n",
              "      gap: 12px;\n",
              "    }\n",
              "\n",
              "    .colab-df-convert {\n",
              "      background-color: #E8F0FE;\n",
              "      border: none;\n",
              "      border-radius: 50%;\n",
              "      cursor: pointer;\n",
              "      display: none;\n",
              "      fill: #1967D2;\n",
              "      height: 32px;\n",
              "      padding: 0 0 0 0;\n",
              "      width: 32px;\n",
              "    }\n",
              "\n",
              "    .colab-df-convert:hover {\n",
              "      background-color: #E2EBFA;\n",
              "      box-shadow: 0px 1px 2px rgba(60, 64, 67, 0.3), 0px 1px 3px 1px rgba(60, 64, 67, 0.15);\n",
              "      fill: #174EA6;\n",
              "    }\n",
              "\n",
              "    [theme=dark] .colab-df-convert {\n",
              "      background-color: #3B4455;\n",
              "      fill: #D2E3FC;\n",
              "    }\n",
              "\n",
              "    [theme=dark] .colab-df-convert:hover {\n",
              "      background-color: #434B5C;\n",
              "      box-shadow: 0px 1px 3px 1px rgba(0, 0, 0, 0.15);\n",
              "      filter: drop-shadow(0px 1px 2px rgba(0, 0, 0, 0.3));\n",
              "      fill: #FFFFFF;\n",
              "    }\n",
              "  </style>\n",
              "\n",
              "      <script>\n",
              "        const buttonEl =\n",
              "          document.querySelector('#df-80e61c16-b8a7-4a28-a82d-b849f771d5c0 button.colab-df-convert');\n",
              "        buttonEl.style.display =\n",
              "          google.colab.kernel.accessAllowed ? 'block' : 'none';\n",
              "\n",
              "        async function convertToInteractive(key) {\n",
              "          const element = document.querySelector('#df-80e61c16-b8a7-4a28-a82d-b849f771d5c0');\n",
              "          const dataTable =\n",
              "            await google.colab.kernel.invokeFunction('convertToInteractive',\n",
              "                                                     [key], {});\n",
              "          if (!dataTable) return;\n",
              "\n",
              "          const docLinkHtml = 'Like what you see? Visit the ' +\n",
              "            '<a target=\"_blank\" href=https://colab.research.google.com/notebooks/data_table.ipynb>data table notebook</a>'\n",
              "            + ' to learn more about interactive tables.';\n",
              "          element.innerHTML = '';\n",
              "          dataTable['output_type'] = 'display_data';\n",
              "          await google.colab.output.renderOutput(dataTable, element);\n",
              "          const docLink = document.createElement('div');\n",
              "          docLink.innerHTML = docLinkHtml;\n",
              "          element.appendChild(docLink);\n",
              "        }\n",
              "      </script>\n",
              "    </div>\n",
              "  </div>\n",
              "  "
            ]
          },
          "metadata": {},
          "execution_count": 32
        }
      ]
    },
    {
      "cell_type": "markdown",
      "source": [
        "Set columns to transform (standardise)"
      ],
      "metadata": {
        "id": "_JSq5MquVcom"
      }
    },
    {
      "cell_type": "code",
      "source": [
        "#defining scaler\n",
        "scaler = StandardScaler()\n",
        "\n",
        "cols = ['Temp','dew_point','pressure', 'Wx','Wy']\n",
        "lags_list = ['lag' + str(i+1) for i in range(24)]\n",
        "cols.extend(lags_list)\n",
        "\n",
        "#applying scaler\n",
        "lag[cols] = scaler.fit_transform(lag[cols])\n",
        "lag.insert(0, 'Demand', lag.pop('Demand'))"
      ],
      "metadata": {
        "id": "mi893iggTASM"
      },
      "execution_count": 33,
      "outputs": []
    },
    {
      "cell_type": "code",
      "source": [
        "#Find number of hours during summer\n",
        "d1 = datetime.date(2022, 3, 1)\n",
        "d0 = datetime.date(2021, 12, 1)\n",
        "delta = d1 - d0\n",
        "print('The number of days between the given range of dates is :')\n",
        "print(delta.days)\n",
        "hours = delta.days*24\n",
        "print('the equivelant number of hours is:')\n",
        "print(hours)"
      ],
      "metadata": {
        "colab": {
          "base_uri": "https://localhost:8080/"
        },
        "id": "YsWnbgBJpXH8",
        "outputId": "135df91b-2fda-4967-9553-32957710f565"
      },
      "execution_count": 34,
      "outputs": [
        {
          "output_type": "stream",
          "name": "stdout",
          "text": [
            "The number of days between the given range of dates is :\n",
            "90\n",
            "the equivelant number of hours is:\n",
            "2160\n"
          ]
        }
      ]
    },
    {
      "cell_type": "code",
      "source": [
        "#split data into train and test sets\n",
        "def split_data_fcast(X,y):\n",
        "  X_train, X_test, y_train, y_test = X[:-90], X[-90:], y[:-90], y[-90:]\n",
        "  return X_train, X_test, y_train, y_test"
      ],
      "metadata": {
        "id": "AvMdBXRuRbij"
      },
      "execution_count": 15,
      "outputs": []
    },
    {
      "cell_type": "code",
      "source": [],
      "metadata": {
        "id": "ojFGT10WyMab"
      },
      "execution_count": 469,
      "outputs": []
    },
    {
      "cell_type": "code",
      "source": [
        "#function to split into window of past and future observations\n",
        "def split_sequence_mult(sequence, n_steps_in, n_steps_out):\n",
        "  X, y = list(), list()\n",
        "  for i in range(len(sequence)):\n",
        "    end_ts = i + n_steps_in\n",
        "    out_ts = end_ts + n_steps_out -1 \n",
        "    if out_ts > len(sequence):\n",
        "      break;\n",
        "    seqx, seqy = sequence.iloc[i:end_ts, 1:], sequence.iloc[end_ts-1:out_ts, 0]\n",
        "    X.append(seqx)\n",
        "    y.append(seqy)\n",
        "  return np.stack(X), np.stack(y)"
      ],
      "metadata": {
        "id": "l1RCHSCsfnlj"
      },
      "execution_count": 18,
      "outputs": []
    },
    {
      "cell_type": "code",
      "source": [],
      "metadata": {
        "id": "ublUIfAtJLIN"
      },
      "execution_count": 470,
      "outputs": []
    },
    {
      "cell_type": "markdown",
      "source": [
        "First Model: MLP"
      ],
      "metadata": {
        "id": "9tksVpFFfQE5"
      }
    },
    {
      "cell_type": "code",
      "source": [
        "n_steps_in, n_steps_out = 48,24\n",
        "X, y = split_sequence_mult(lag, n_steps_in=n_steps_in,n_steps_out=n_steps_out)"
      ],
      "metadata": {
        "id": "e483LvmAYmUF"
      },
      "execution_count": 35,
      "outputs": []
    },
    {
      "cell_type": "code",
      "source": [
        "#flatten inputs for MLP\n",
        "n_inputs, n_out = X.shape[1] * X.shape[2], 24\n",
        "XC = X.reshape(X.shape[0], n_inputs)\n",
        "\n",
        "X_train, X_test, y_train, y_test = split_data_fcast(XC,y)"
      ],
      "metadata": {
        "id": "dMkfmXiVY6B_"
      },
      "execution_count": 36,
      "outputs": []
    },
    {
      "cell_type": "code",
      "source": [
        "#save MLP data\n",
        "np.savetxt('drive/MyDrive/Colab Notebooks/dscapstone/X_trainMLP.txt', X_train, fmt='%d')\n",
        "np.savetxt('drive/MyDrive/Colab Notebooks/dscapstone/y_trainMLP.txt', y_train, fmt='%d')\n",
        "np.savetxt('drive/MyDrive/Colab Notebooks/dscapstone/X_testMLP.txt', X_test, fmt='%d')\n",
        "np.savetxt('drive/MyDrive/Colab Notebooks/dscapstone/y_testMLP.txt', y_test, fmt='%d')"
      ],
      "metadata": {
        "id": "rS04CLqfLRi-"
      },
      "execution_count": 21,
      "outputs": []
    },
    {
      "cell_type": "code",
      "source": [
        "#reload MLP data\n",
        "X_trainMLP = np.loadtxt('drive/MyDrive/Colab Notebooks/dscapstone/X_trainMLP.txt', dtype=int)\n",
        "y_trainMLP = np.loadtxt('drive/MyDrive/Colab Notebooks/dscapstone/y_trainMLP.txt', dtype=int)\n",
        "X_testMLP = np.loadtxt('drive/MyDrive/Colab Notebooks/dscapstone/X_testMLP.txt', dtype=int)\n",
        "y_testMLP = np.loadtxt('drive/MyDrive/Colab Notebooks/dscapstone/y_testMLP.txt', dtype=int)"
      ],
      "metadata": {
        "id": "N4fXAEpR1lLK"
      },
      "execution_count": 7,
      "outputs": []
    },
    {
      "cell_type": "code",
      "source": [
        "#Train MLP Model\n",
        "rn.seed(15)\n",
        "tf.random.set_seed(15)\n",
        "\n",
        "MLP_model = Sequential()\n",
        "MLP_model.add(Dense(800, activation='relu', input_dim=n_inputs))\n",
        "MLP_model.add(Dense(n_out))\n",
        "MLP_model.compile(optimizer='adam', loss='mse')\n",
        "MLP_model.fit(X_train, y_train, epochs=90, verbose=1)"
      ],
      "metadata": {
        "colab": {
          "base_uri": "https://localhost:8080/"
        },
        "id": "XppfDgT8ZMnv",
        "outputId": "95fb32bb-9e6e-485a-90dc-4835a054136b"
      },
      "execution_count": 475,
      "outputs": [
        {
          "output_type": "stream",
          "name": "stdout",
          "text": [
            "Epoch 1/90\n",
            "3196/3196 [==============================] - 30s 9ms/step - loss: 407644.4062\n",
            "Epoch 2/90\n",
            "3196/3196 [==============================] - 28s 9ms/step - loss: 120923.8594\n",
            "Epoch 3/90\n",
            "3196/3196 [==============================] - 28s 9ms/step - loss: 109715.2344\n",
            "Epoch 4/90\n",
            "3196/3196 [==============================] - 27s 9ms/step - loss: 102485.0547\n",
            "Epoch 5/90\n",
            "3196/3196 [==============================] - 27s 9ms/step - loss: 97395.0156\n",
            "Epoch 6/90\n",
            "3196/3196 [==============================] - 28s 9ms/step - loss: 93836.3750\n",
            "Epoch 7/90\n",
            "3196/3196 [==============================] - 30s 9ms/step - loss: 90984.5078\n",
            "Epoch 8/90\n",
            "3196/3196 [==============================] - 28s 9ms/step - loss: 88571.8984\n",
            "Epoch 9/90\n",
            "3196/3196 [==============================] - 29s 9ms/step - loss: 86197.6641\n",
            "Epoch 10/90\n",
            "3196/3196 [==============================] - 28s 9ms/step - loss: 84442.2500\n",
            "Epoch 11/90\n",
            "3196/3196 [==============================] - 27s 9ms/step - loss: 82679.4219\n",
            "Epoch 12/90\n",
            "3196/3196 [==============================] - 28s 9ms/step - loss: 81007.6484\n",
            "Epoch 13/90\n",
            "3196/3196 [==============================] - 30s 9ms/step - loss: 79396.1094\n",
            "Epoch 14/90\n",
            "3196/3196 [==============================] - 28s 9ms/step - loss: 77920.1562\n",
            "Epoch 15/90\n",
            "3196/3196 [==============================] - 27s 9ms/step - loss: 76655.5000\n",
            "Epoch 16/90\n",
            "3196/3196 [==============================] - 27s 9ms/step - loss: 75115.4688\n",
            "Epoch 17/90\n",
            "3196/3196 [==============================] - 28s 9ms/step - loss: 74100.9141\n",
            "Epoch 18/90\n",
            "3196/3196 [==============================] - 28s 9ms/step - loss: 72927.6094\n",
            "Epoch 19/90\n",
            "3196/3196 [==============================] - 27s 9ms/step - loss: 71701.0156\n",
            "Epoch 20/90\n",
            "3196/3196 [==============================] - 31s 10ms/step - loss: 70614.0469\n",
            "Epoch 21/90\n",
            "3196/3196 [==============================] - 29s 9ms/step - loss: 69553.0469\n",
            "Epoch 22/90\n",
            "3196/3196 [==============================] - 29s 9ms/step - loss: 68580.9453\n",
            "Epoch 23/90\n",
            "3196/3196 [==============================] - 30s 9ms/step - loss: 67802.7969\n",
            "Epoch 24/90\n",
            "3196/3196 [==============================] - 29s 9ms/step - loss: 66851.4453\n",
            "Epoch 25/90\n",
            "3196/3196 [==============================] - 29s 9ms/step - loss: 66105.5469\n",
            "Epoch 26/90\n",
            "3196/3196 [==============================] - 31s 10ms/step - loss: 65324.6562\n",
            "Epoch 27/90\n",
            "3196/3196 [==============================] - 28s 9ms/step - loss: 64381.2305\n",
            "Epoch 28/90\n",
            "3196/3196 [==============================] - 29s 9ms/step - loss: 63785.2344\n",
            "Epoch 29/90\n",
            "3196/3196 [==============================] - 29s 9ms/step - loss: 63032.9102\n",
            "Epoch 30/90\n",
            "3196/3196 [==============================] - 29s 9ms/step - loss: 62550.8672\n",
            "Epoch 31/90\n",
            "3196/3196 [==============================] - 30s 10ms/step - loss: 61607.9531\n",
            "Epoch 32/90\n",
            "3196/3196 [==============================] - 30s 9ms/step - loss: 60969.6641\n",
            "Epoch 33/90\n",
            "3196/3196 [==============================] - 29s 9ms/step - loss: 60591.0117\n",
            "Epoch 34/90\n",
            "3196/3196 [==============================] - 29s 9ms/step - loss: 60030.1211\n",
            "Epoch 35/90\n",
            "3196/3196 [==============================] - 29s 9ms/step - loss: 59331.1523\n",
            "Epoch 36/90\n",
            "3196/3196 [==============================] - 29s 9ms/step - loss: 58915.4375\n",
            "Epoch 37/90\n",
            "3196/3196 [==============================] - 29s 9ms/step - loss: 58478.6719\n",
            "Epoch 38/90\n",
            "3196/3196 [==============================] - 30s 9ms/step - loss: 57814.6406\n",
            "Epoch 39/90\n",
            "3196/3196 [==============================] - 29s 9ms/step - loss: 57367.4492\n",
            "Epoch 40/90\n",
            "3196/3196 [==============================] - 29s 9ms/step - loss: 57024.0234\n",
            "Epoch 41/90\n",
            "3196/3196 [==============================] - 28s 9ms/step - loss: 56687.8672\n",
            "Epoch 42/90\n",
            "3196/3196 [==============================] - 29s 9ms/step - loss: 56101.3633\n",
            "Epoch 43/90\n",
            "3196/3196 [==============================] - 29s 9ms/step - loss: 55631.0859\n",
            "Epoch 44/90\n",
            "3196/3196 [==============================] - 30s 10ms/step - loss: 55336.9609\n",
            "Epoch 45/90\n",
            "3196/3196 [==============================] - 30s 9ms/step - loss: 54769.2109\n",
            "Epoch 46/90\n",
            "3196/3196 [==============================] - 29s 9ms/step - loss: 54476.1719\n",
            "Epoch 47/90\n",
            "3196/3196 [==============================] - 29s 9ms/step - loss: 54128.9492\n",
            "Epoch 48/90\n",
            "3196/3196 [==============================] - 29s 9ms/step - loss: 53769.5078\n",
            "Epoch 49/90\n",
            "3196/3196 [==============================] - 29s 9ms/step - loss: 53412.7031\n",
            "Epoch 50/90\n",
            "3196/3196 [==============================] - 31s 10ms/step - loss: 53073.6289\n",
            "Epoch 51/90\n",
            "3196/3196 [==============================] - 29s 9ms/step - loss: 52562.4531\n",
            "Epoch 52/90\n",
            "3196/3196 [==============================] - 29s 9ms/step - loss: 52425.8164\n",
            "Epoch 53/90\n",
            "3196/3196 [==============================] - 29s 9ms/step - loss: 51811.9219\n",
            "Epoch 54/90\n",
            "3196/3196 [==============================] - 29s 9ms/step - loss: 51799.6445\n",
            "Epoch 55/90\n",
            "3196/3196 [==============================] - 29s 9ms/step - loss: 51473.0781\n",
            "Epoch 56/90\n",
            "3196/3196 [==============================] - 31s 10ms/step - loss: 50933.1172\n",
            "Epoch 57/90\n",
            "3196/3196 [==============================] - 29s 9ms/step - loss: 50914.6758\n",
            "Epoch 58/90\n",
            "3196/3196 [==============================] - 29s 9ms/step - loss: 50623.3984\n",
            "Epoch 59/90\n",
            "3196/3196 [==============================] - 29s 9ms/step - loss: 50213.9609\n",
            "Epoch 60/90\n",
            "3196/3196 [==============================] - 29s 9ms/step - loss: 49975.4336\n",
            "Epoch 61/90\n",
            "3196/3196 [==============================] - 29s 9ms/step - loss: 49808.5430\n",
            "Epoch 62/90\n",
            "3196/3196 [==============================] - 30s 9ms/step - loss: 49356.8125\n",
            "Epoch 63/90\n",
            "3196/3196 [==============================] - 29s 9ms/step - loss: 49183.7617\n",
            "Epoch 64/90\n",
            "3196/3196 [==============================] - 29s 9ms/step - loss: 48949.0742\n",
            "Epoch 65/90\n",
            "3196/3196 [==============================] - 29s 9ms/step - loss: 48714.7695\n",
            "Epoch 66/90\n",
            "3196/3196 [==============================] - 29s 9ms/step - loss: 48521.9141\n",
            "Epoch 67/90\n",
            "3196/3196 [==============================] - 28s 9ms/step - loss: 48142.3281\n",
            "Epoch 68/90\n",
            "3196/3196 [==============================] - 31s 10ms/step - loss: 48041.3008\n",
            "Epoch 69/90\n",
            "3196/3196 [==============================] - 29s 9ms/step - loss: 47798.7578\n",
            "Epoch 70/90\n",
            "3196/3196 [==============================] - 29s 9ms/step - loss: 47471.1992\n",
            "Epoch 71/90\n",
            "3196/3196 [==============================] - 30s 9ms/step - loss: 47462.7812\n",
            "Epoch 72/90\n",
            "3196/3196 [==============================] - 30s 9ms/step - loss: 47216.2148\n",
            "Epoch 73/90\n",
            "3196/3196 [==============================] - 30s 9ms/step - loss: 46907.4531\n",
            "Epoch 74/90\n",
            "3196/3196 [==============================] - 31s 10ms/step - loss: 46902.7227\n",
            "Epoch 75/90\n",
            "3196/3196 [==============================] - 30s 9ms/step - loss: 46520.4961\n",
            "Epoch 76/90\n",
            "3196/3196 [==============================] - 29s 9ms/step - loss: 46303.6836\n",
            "Epoch 77/90\n",
            "3196/3196 [==============================] - 29s 9ms/step - loss: 46192.0586\n",
            "Epoch 78/90\n",
            "3196/3196 [==============================] - 29s 9ms/step - loss: 46073.1445\n",
            "Epoch 79/90\n",
            "3196/3196 [==============================] - 29s 9ms/step - loss: 45719.6602\n",
            "Epoch 80/90\n",
            "3196/3196 [==============================] - 31s 10ms/step - loss: 45652.4453\n",
            "Epoch 81/90\n",
            "3196/3196 [==============================] - 29s 9ms/step - loss: 45433.5547\n",
            "Epoch 82/90\n",
            "3196/3196 [==============================] - 29s 9ms/step - loss: 45234.5312\n",
            "Epoch 83/90\n",
            "3196/3196 [==============================] - 29s 9ms/step - loss: 45249.3711\n",
            "Epoch 84/90\n",
            "3196/3196 [==============================] - 30s 9ms/step - loss: 44961.6641\n",
            "Epoch 85/90\n",
            "3196/3196 [==============================] - 32s 10ms/step - loss: 44656.2539\n",
            "Epoch 86/90\n",
            "3196/3196 [==============================] - 31s 10ms/step - loss: 44779.3633\n",
            "Epoch 87/90\n",
            "3196/3196 [==============================] - 29s 9ms/step - loss: 44475.5039\n",
            "Epoch 88/90\n",
            "3196/3196 [==============================] - 29s 9ms/step - loss: 44305.6836\n",
            "Epoch 89/90\n",
            "3196/3196 [==============================] - 29s 9ms/step - loss: 44098.5234\n",
            "Epoch 90/90\n",
            "3196/3196 [==============================] - 29s 9ms/step - loss: 44123.0156\n"
          ]
        },
        {
          "output_type": "execute_result",
          "data": {
            "text/plain": [
              "<keras.callbacks.History at 0x7f844fc9e3d0>"
            ]
          },
          "metadata": {},
          "execution_count": 475
        }
      ]
    },
    {
      "cell_type": "code",
      "source": [
        "#save the model\n",
        "with open('drive/MyDrive/Colab Notebooks/dscapstone/MLP_model', 'wb') as f:\n",
        "  pickle.dump(MLP_model,f)"
      ],
      "metadata": {
        "id": "Zhv_sdcyrdnh"
      },
      "execution_count": 476,
      "outputs": []
    },
    {
      "cell_type": "code",
      "source": [
        "#reload the model\n",
        "with open('drive/MyDrive/Colab Notebooks/dscapstone/MLP_model', 'rb') as f:\n",
        "  MLP_model = pickle.load(f)"
      ],
      "metadata": {
        "id": "vXRXhNVJsIub"
      },
      "execution_count": 5,
      "outputs": []
    },
    {
      "cell_type": "code",
      "source": [
        "#model prediction and metrics\n",
        "MLPypred=MLP_model.predict(X_testMLP)\n",
        "MLPtest = y_testMLP\n",
        "metricf(MLPypred, MLPtest)"
      ],
      "metadata": {
        "colab": {
          "base_uri": "https://localhost:8080/"
        },
        "id": "V_NbwgLUsXgf",
        "outputId": "c9694aa0-c68d-43a5-acd6-5532e130c54b"
      },
      "execution_count": 10,
      "outputs": [
        {
          "output_type": "stream",
          "name": "stdout",
          "text": [
            "3/3 [==============================] - 0s 6ms/step\n",
            "MAE : 324.651057\n",
            "MSE : 178109.202276\n",
            "RMSE : 422.029859\n",
            "MAPE : 0.068723\n"
          ]
        }
      ]
    },
    {
      "cell_type": "code",
      "source": [
        "MLPypredlist=list(itertools.chain.from_iterable(MLPypred))\n",
        "test_list=list(itertools.chain.from_iterable(MLPtest))\n",
        "plot_result(MLPypredlist, test_list, 'MLP 24 hrs Model')"
      ],
      "metadata": {
        "colab": {
          "base_uri": "https://localhost:8080/",
          "height": 799
        },
        "id": "8KLeRZXzwZTR",
        "outputId": "ae2d8362-03ca-498c-b292-4f5a1b64e5b7"
      },
      "execution_count": 34,
      "outputs": [
        {
          "output_type": "stream",
          "name": "stdout",
          "text": [
            "Accuracy: 0.8098388945568339\n"
          ]
        },
        {
          "output_type": "display_data",
          "data": {
            "text/plain": [
              "<Figure size 1800x1296 with 1 Axes>"
            ],
            "image/png": "[encoded data removed]"
          },
          "metadata": {
            "needs_background": "light"
          }
        }
      ]
    },
    {
      "cell_type": "markdown",
      "source": [
        "Second Model: CNN"
      ],
      "metadata": {
        "id": "sbZDgfPMfSig"
      }
    },
    {
      "cell_type": "code",
      "source": [
        "n_in, n_out = 48, 24\n",
        "#X,y = split_sequence_mult(lag,n_in, n_out)\n",
        "\n",
        "X_train, X_test, y_train, y_test = split_data_fcast(X,y)\n"
      ],
      "metadata": {
        "id": "Odh7TsscQ9d7"
      },
      "execution_count": 37,
      "outputs": []
    },
    {
      "cell_type": "code",
      "source": [],
      "metadata": {
        "id": "6SADiJyoRHoR"
      },
      "execution_count": 24,
      "outputs": []
    },
    {
      "cell_type": "code",
      "source": [
        "rn.seed(24)\n",
        "tf.random.set_seed(24)\n",
        "\n",
        "\n",
        "n_features = 33\n",
        "# define model\n",
        "CNN_model = Sequential()\n",
        "CNN_model.add(Conv1D(filters=64, kernel_size=2, activation='relu', input_shape=(n_in,\n",
        "n_features)))\n",
        "CNN_model.add(MaxPooling1D(pool_size=2))\n",
        "CNN_model.add(Flatten())\n",
        "CNN_model.add(Dense(800, activation='relu'))\n",
        "CNN_model.add(Dense(n_out))\n",
        "CNN_model.compile(optimizer='adam', loss='mse')\n",
        "# fit model\n",
        "CNN_model.fit(X_train, y_train, epochs=90, verbose=1)"
      ],
      "metadata": {
        "colab": {
          "base_uri": "https://localhost:8080/"
        },
        "id": "AI5TvcPFhDYc",
        "outputId": "ba0b6800-5b32-438b-ee74-4c67f7cbc471"
      },
      "execution_count": 26,
      "outputs": [
        {
          "output_type": "stream",
          "name": "stdout",
          "text": [
            "Epoch 1/90\n",
            "3196/3196 [==============================] - 52s 16ms/step - loss: 347279.7188\n",
            "Epoch 2/90\n",
            "3196/3196 [==============================] - 50s 16ms/step - loss: 130197.2500\n",
            "Epoch 3/90\n",
            "3196/3196 [==============================] - 48s 15ms/step - loss: 116179.5391\n",
            "Epoch 4/90\n",
            "3196/3196 [==============================] - 47s 15ms/step - loss: 107667.6641\n",
            "Epoch 5/90\n",
            "3196/3196 [==============================] - 47s 15ms/step - loss: 101807.1328\n",
            "Epoch 6/90\n",
            "3196/3196 [==============================] - 49s 15ms/step - loss: 97464.9766\n",
            "Epoch 7/90\n",
            "3196/3196 [==============================] - 49s 15ms/step - loss: 93995.9766\n",
            "Epoch 8/90\n",
            "3196/3196 [==============================] - 48s 15ms/step - loss: 91243.9609\n",
            "Epoch 9/90\n",
            "3196/3196 [==============================] - 50s 16ms/step - loss: 88816.0859\n",
            "Epoch 10/90\n",
            "3196/3196 [==============================] - 52s 16ms/step - loss: 86333.3203\n",
            "Epoch 11/90\n",
            "3196/3196 [==============================] - 47s 15ms/step - loss: 84031.0156\n",
            "Epoch 12/90\n",
            "3196/3196 [==============================] - 49s 15ms/step - loss: 82036.9219\n",
            "Epoch 13/90\n",
            "3196/3196 [==============================] - 48s 15ms/step - loss: 79964.5547\n",
            "Epoch 14/90\n",
            "3196/3196 [==============================] - 47s 15ms/step - loss: 78379.0469\n",
            "Epoch 15/90\n",
            "3196/3196 [==============================] - 48s 15ms/step - loss: 76466.2500\n",
            "Epoch 16/90\n",
            "3196/3196 [==============================] - 49s 15ms/step - loss: 74818.9922\n",
            "Epoch 17/90\n",
            "3196/3196 [==============================] - 47s 15ms/step - loss: 73152.7422\n",
            "Epoch 18/90\n",
            "3196/3196 [==============================] - 47s 15ms/step - loss: 71189.7266\n",
            "Epoch 19/90\n",
            "3196/3196 [==============================] - 49s 15ms/step - loss: 69943.3125\n",
            "Epoch 20/90\n",
            "3196/3196 [==============================] - 47s 15ms/step - loss: 68234.2812\n",
            "Epoch 21/90\n",
            "3196/3196 [==============================] - 47s 15ms/step - loss: 66402.3672\n",
            "Epoch 22/90\n",
            "3196/3196 [==============================] - 48s 15ms/step - loss: 64899.8438\n",
            "Epoch 23/90\n",
            "3196/3196 [==============================] - 52s 16ms/step - loss: 63474.1250\n",
            "Epoch 24/90\n",
            "3196/3196 [==============================] - 47s 15ms/step - loss: 61777.5195\n",
            "Epoch 25/90\n",
            "3196/3196 [==============================] - 47s 15ms/step - loss: 60130.2422\n",
            "Epoch 26/90\n",
            "3196/3196 [==============================] - 49s 15ms/step - loss: 58521.1484\n",
            "Epoch 27/90\n",
            "3196/3196 [==============================] - 47s 15ms/step - loss: 56840.8477\n",
            "Epoch 28/90\n",
            "3196/3196 [==============================] - 47s 15ms/step - loss: 55106.2617\n",
            "Epoch 29/90\n",
            "3196/3196 [==============================] - 47s 15ms/step - loss: 53498.8086\n",
            "Epoch 30/90\n",
            "3196/3196 [==============================] - 49s 15ms/step - loss: 51979.2383\n",
            "Epoch 31/90\n",
            "3196/3196 [==============================] - 47s 15ms/step - loss: 50238.8320\n",
            "Epoch 32/90\n",
            "3196/3196 [==============================] - 47s 15ms/step - loss: 48941.7344\n",
            "Epoch 33/90\n",
            "3196/3196 [==============================] - 49s 15ms/step - loss: 47412.3984\n",
            "Epoch 34/90\n",
            "3196/3196 [==============================] - 47s 15ms/step - loss: 46022.9141\n",
            "Epoch 35/90\n",
            "3196/3196 [==============================] - 47s 15ms/step - loss: 44767.9570\n",
            "Epoch 36/90\n",
            "3196/3196 [==============================] - 47s 15ms/step - loss: 43509.4414\n",
            "Epoch 37/90\n",
            "3196/3196 [==============================] - 48s 15ms/step - loss: 42171.1172\n",
            "Epoch 38/90\n",
            "3196/3196 [==============================] - 47s 15ms/step - loss: 41200.3945\n",
            "Epoch 39/90\n",
            "3196/3196 [==============================] - 47s 15ms/step - loss: 40126.2109\n",
            "Epoch 40/90\n",
            "3196/3196 [==============================] - 50s 16ms/step - loss: 38905.9492\n",
            "Epoch 41/90\n",
            "3196/3196 [==============================] - 47s 15ms/step - loss: 38018.4258\n",
            "Epoch 42/90\n",
            "3196/3196 [==============================] - 47s 15ms/step - loss: 36975.6641\n",
            "Epoch 43/90\n",
            "3196/3196 [==============================] - 47s 15ms/step - loss: 36207.5820\n",
            "Epoch 44/90\n",
            "3196/3196 [==============================] - 49s 15ms/step - loss: 35338.4102\n",
            "Epoch 45/90\n",
            "3196/3196 [==============================] - 47s 15ms/step - loss: 34566.7383\n",
            "Epoch 46/90\n",
            "3196/3196 [==============================] - 48s 15ms/step - loss: 33728.9219\n",
            "Epoch 47/90\n",
            "3196/3196 [==============================] - 49s 15ms/step - loss: 33011.3086\n",
            "Epoch 48/90\n",
            "3196/3196 [==============================] - 47s 15ms/step - loss: 32331.4785\n",
            "Epoch 49/90\n",
            "3196/3196 [==============================] - 47s 15ms/step - loss: 31680.1250\n",
            "Epoch 50/90\n",
            "3196/3196 [==============================] - 47s 15ms/step - loss: 30961.0820\n",
            "Epoch 51/90\n",
            "3196/3196 [==============================] - 49s 15ms/step - loss: 30310.9609\n",
            "Epoch 52/90\n",
            "3196/3196 [==============================] - 47s 15ms/step - loss: 29788.7891\n",
            "Epoch 53/90\n",
            "3196/3196 [==============================] - 47s 15ms/step - loss: 29160.9023\n",
            "Epoch 54/90\n",
            "3196/3196 [==============================] - 49s 15ms/step - loss: 28720.7930\n",
            "Epoch 55/90\n",
            "3196/3196 [==============================] - 47s 15ms/step - loss: 28130.0078\n",
            "Epoch 56/90\n",
            "3196/3196 [==============================] - 47s 15ms/step - loss: 27638.5059\n",
            "Epoch 57/90\n",
            "3196/3196 [==============================] - 47s 15ms/step - loss: 27075.6445\n",
            "Epoch 58/90\n",
            "3196/3196 [==============================] - 52s 16ms/step - loss: 26625.0254\n",
            "Epoch 59/90\n",
            "3196/3196 [==============================] - 51s 16ms/step - loss: 26370.0605\n",
            "Epoch 60/90\n",
            "3196/3196 [==============================] - 51s 16ms/step - loss: 25711.8457\n",
            "Epoch 61/90\n",
            "3196/3196 [==============================] - 53s 16ms/step - loss: 25401.4629\n",
            "Epoch 62/90\n",
            "3196/3196 [==============================] - 51s 16ms/step - loss: 25046.5293\n",
            "Epoch 63/90\n",
            "3196/3196 [==============================] - 51s 16ms/step - loss: 24614.7109\n",
            "Epoch 64/90\n",
            "3196/3196 [==============================] - 53s 16ms/step - loss: 24195.4238\n",
            "Epoch 65/90\n",
            "3196/3196 [==============================] - 51s 16ms/step - loss: 23981.4902\n",
            "Epoch 66/90\n",
            "3196/3196 [==============================] - 51s 16ms/step - loss: 23576.6680\n",
            "Epoch 67/90\n",
            "3196/3196 [==============================] - 65s 20ms/step - loss: 23288.6484\n",
            "Epoch 68/90\n",
            "3196/3196 [==============================] - 59s 18ms/step - loss: 23005.2812\n",
            "Epoch 69/90\n",
            "3196/3196 [==============================] - 53s 17ms/step - loss: 22648.5371\n",
            "Epoch 70/90\n",
            "3196/3196 [==============================] - 52s 16ms/step - loss: 22404.5879\n",
            "Epoch 71/90\n",
            "3196/3196 [==============================] - 54s 17ms/step - loss: 22062.5762\n",
            "Epoch 72/90\n",
            "3196/3196 [==============================] - 51s 16ms/step - loss: 21811.3262\n",
            "Epoch 73/90\n",
            "3196/3196 [==============================] - 50s 16ms/step - loss: 21556.6230\n",
            "Epoch 74/90\n",
            "3196/3196 [==============================] - 50s 16ms/step - loss: 21244.9609\n",
            "Epoch 75/90\n",
            "3196/3196 [==============================] - 47s 15ms/step - loss: 21012.4824\n",
            "Epoch 76/90\n",
            "3196/3196 [==============================] - 48s 15ms/step - loss: 20789.9395\n",
            "Epoch 77/90\n",
            "3196/3196 [==============================] - 47s 15ms/step - loss: 20502.8574\n",
            "Epoch 78/90\n",
            "3196/3196 [==============================] - 47s 15ms/step - loss: 20336.3613\n",
            "Epoch 79/90\n",
            "3196/3196 [==============================] - 48s 15ms/step - loss: 20143.7988\n",
            "Epoch 80/90\n",
            "3196/3196 [==============================] - 49s 15ms/step - loss: 19920.5625\n",
            "Epoch 81/90\n",
            "3196/3196 [==============================] - 47s 15ms/step - loss: 19653.3516\n",
            "Epoch 82/90\n",
            "3196/3196 [==============================] - 47s 15ms/step - loss: 19553.1113\n",
            "Epoch 83/90\n",
            "3196/3196 [==============================] - 49s 15ms/step - loss: 19343.1562\n",
            "Epoch 84/90\n",
            "3196/3196 [==============================] - 60s 19ms/step - loss: 19119.8867\n",
            "Epoch 85/90\n",
            "3196/3196 [==============================] - 49s 15ms/step - loss: 18930.4062\n",
            "Epoch 86/90\n",
            "3196/3196 [==============================] - 49s 15ms/step - loss: 18793.4805\n",
            "Epoch 87/90\n",
            "3196/3196 [==============================] - 47s 15ms/step - loss: 18679.5762\n",
            "Epoch 88/90\n",
            "3196/3196 [==============================] - 46s 15ms/step - loss: 18415.6602\n",
            "Epoch 89/90\n",
            "3196/3196 [==============================] - 48s 15ms/step - loss: 18288.4277\n",
            "Epoch 90/90\n",
            "3196/3196 [==============================] - 49s 15ms/step - loss: 18135.7031\n"
          ]
        },
        {
          "output_type": "execute_result",
          "data": {
            "text/plain": [
              "<keras.callbacks.History at 0x7f848b24ce10>"
            ]
          },
          "metadata": {},
          "execution_count": 26
        }
      ]
    },
    {
      "cell_type": "code",
      "source": [
        "with open('drive/MyDrive/Colab Notebooks/dscapstone/CNN_model', 'wb') as f:\n",
        "  pickle.dump(CNN_model,f)"
      ],
      "metadata": {
        "colab": {
          "base_uri": "https://localhost:8080/"
        },
        "id": "3WqQOlAG0boY",
        "outputId": "8bea9417-b706-4dc9-b848-dca4c51a14b7"
      },
      "execution_count": 27,
      "outputs": [
        {
          "output_type": "stream",
          "name": "stderr",
          "text": [
            "WARNING:absl:Found untraced functions such as _jit_compiled_convolution_op while saving (showing 1 of 1). These functions will not be directly callable after loading.\n"
          ]
        }
      ]
    },
    {
      "cell_type": "code",
      "source": [
        "with open('drive/MyDrive/Colab Notebooks/dscapstone/CNN_model', 'rb') as f:\n",
        "  CNN_model = pickle.load(f)"
      ],
      "metadata": {
        "id": "E8sqvjja1mUe"
      },
      "execution_count": 12,
      "outputs": []
    },
    {
      "cell_type": "code",
      "source": [
        "CNNyhat=CNN_model.predict(X_test)\n",
        "CNNtest = y_test\n",
        "metricf(CNNyhat, CNNtest)"
      ],
      "metadata": {
        "colab": {
          "base_uri": "https://localhost:8080/"
        },
        "id": "tNntnK8u3P0H",
        "outputId": "5e14ca93-41d2-4eed-ab28-ff7558e14c41"
      },
      "execution_count": 38,
      "outputs": [
        {
          "output_type": "stream",
          "name": "stdout",
          "text": [
            "3/3 [==============================] - 0s 7ms/step\n",
            "MAE : 274.198372\n",
            "MSE : 138057.440148\n",
            "RMSE : 371.560816\n",
            "MAPE : 0.061753\n"
          ]
        }
      ]
    }
  ]
}