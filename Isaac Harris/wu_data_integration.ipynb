{
 "cells": [
  {
   "cell_type": "markdown",
   "metadata": {},
   "source": [
    "# Merging WU Weather Data (30 mins weather interval)\n",
    "## by : Isaac Harris"
   ]
  },
  {
   "cell_type": "code",
   "execution_count": 16,
   "metadata": {},
   "outputs": [],
   "source": [
    "import pandas as pd\n",
    "import glob\n",
    "import os.path\n",
    "from pathlib import Path"
   ]
  },
  {
   "cell_type": "code",
   "execution_count": 17,
   "metadata": {},
   "outputs": [],
   "source": [
    "os.chdir(\"../Data/raw/WU\")\n",
    "# Create a list of all CSV files\n",
    "files = glob.glob(\"*.csv\")\n",
    "\n",
    "# Create an empty list to append the df\n",
    "filenames = []\n",
    "\n",
    "for csv in files:\n",
    "    df = pd.read_csv(csv)\n",
    "    df['Date'] = os.path.basename(csv)\n",
    "    filenames.append(df)"
   ]
  },
  {
   "cell_type": "code",
   "execution_count": 18,
   "metadata": {},
   "outputs": [],
   "source": [
    "df= pd.concat(filenames)"
   ]
  },
  {
   "cell_type": "code",
   "execution_count": 19,
   "metadata": {},
   "outputs": [
    {
     "name": "stderr",
     "output_type": "stream",
     "text": [
      "/var/folders/x3/zqbjwpy10g30gjb8chvrw95h0000gn/T/ipykernel_16565/1463407949.py:1: FutureWarning: The default value of regex will change from True to False in a future version.\n",
      "  df['Date'] = df['Date'].str.replace(r'\\D', '')\n"
     ]
    }
   ],
   "source": [
    "df['Date'] = df['Date'].str.replace(r'\\D', '')"
   ]
  },
  {
   "cell_type": "code",
   "execution_count": 20,
   "metadata": {},
   "outputs": [],
   "source": [
    "df['Datetime'] = df['Date'] + ' ' + df['Time']"
   ]
  },
  {
   "cell_type": "code",
   "execution_count": 21,
   "metadata": {},
   "outputs": [],
   "source": [
    "df = df.drop(columns= ['Date', 'Time'])"
   ]
  },
  {
   "cell_type": "code",
   "execution_count": 22,
   "metadata": {},
   "outputs": [],
   "source": [
    "df['Datetime'] = pd.to_datetime(df['Datetime'])"
   ]
  },
  {
   "cell_type": "code",
   "execution_count": 23,
   "metadata": {},
   "outputs": [
    {
     "data": {
      "text/html": [
       "<div>\n",
       "<style scoped>\n",
       "    .dataframe tbody tr th:only-of-type {\n",
       "        vertical-align: middle;\n",
       "    }\n",
       "\n",
       "    .dataframe tbody tr th {\n",
       "        vertical-align: top;\n",
       "    }\n",
       "\n",
       "    .dataframe thead th {\n",
       "        text-align: right;\n",
       "    }\n",
       "</style>\n",
       "<table border=\"1\" class=\"dataframe\">\n",
       "  <thead>\n",
       "    <tr style=\"text-align: right;\">\n",
       "      <th></th>\n",
       "      <th>Temperature</th>\n",
       "      <th>Dew Point</th>\n",
       "      <th>Humidity</th>\n",
       "      <th>Wind</th>\n",
       "      <th>Wind Speed</th>\n",
       "      <th>Wind Gust</th>\n",
       "      <th>Pressure</th>\n",
       "      <th>Precip.</th>\n",
       "      <th>Condition</th>\n",
       "      <th>Datetime</th>\n",
       "    </tr>\n",
       "  </thead>\n",
       "  <tbody>\n",
       "    <tr>\n",
       "      <th>0</th>\n",
       "      <td>59 °F</td>\n",
       "      <td>46 °F</td>\n",
       "      <td>63 %</td>\n",
       "      <td>W</td>\n",
       "      <td>15 mph</td>\n",
       "      <td>0 mph</td>\n",
       "      <td>29.46 in</td>\n",
       "      <td>0.0 in</td>\n",
       "      <td>Partly Cloudy</td>\n",
       "      <td>2009-05-22 00:00:00</td>\n",
       "    </tr>\n",
       "    <tr>\n",
       "      <th>1</th>\n",
       "      <td>59 °F</td>\n",
       "      <td>46 °F</td>\n",
       "      <td>63 %</td>\n",
       "      <td>W</td>\n",
       "      <td>18 mph</td>\n",
       "      <td>0 mph</td>\n",
       "      <td>29.46 in</td>\n",
       "      <td>0.0 in</td>\n",
       "      <td>Mostly Cloudy</td>\n",
       "      <td>2009-05-22 00:30:00</td>\n",
       "    </tr>\n",
       "    <tr>\n",
       "      <th>2</th>\n",
       "      <td>59 °F</td>\n",
       "      <td>43 °F</td>\n",
       "      <td>55 %</td>\n",
       "      <td>WNW</td>\n",
       "      <td>18 mph</td>\n",
       "      <td>33 mph</td>\n",
       "      <td>29.46 in</td>\n",
       "      <td>0.0 in</td>\n",
       "      <td>Mostly Cloudy</td>\n",
       "      <td>2009-05-22 00:54:00</td>\n",
       "    </tr>\n",
       "    <tr>\n",
       "      <th>3</th>\n",
       "      <td>59 °F</td>\n",
       "      <td>45 °F</td>\n",
       "      <td>59 %</td>\n",
       "      <td>W</td>\n",
       "      <td>21 mph</td>\n",
       "      <td>33 mph</td>\n",
       "      <td>29.46 in</td>\n",
       "      <td>0.0 in</td>\n",
       "      <td>Mostly Cloudy / Windy</td>\n",
       "      <td>2009-05-22 01:00:00</td>\n",
       "    </tr>\n",
       "    <tr>\n",
       "      <th>4</th>\n",
       "      <td>57 °F</td>\n",
       "      <td>45 °F</td>\n",
       "      <td>63 %</td>\n",
       "      <td>W</td>\n",
       "      <td>18 mph</td>\n",
       "      <td>31 mph</td>\n",
       "      <td>29.49 in</td>\n",
       "      <td>0.0 in</td>\n",
       "      <td>Mostly Cloudy</td>\n",
       "      <td>2009-05-22 01:30:00</td>\n",
       "    </tr>\n",
       "  </tbody>\n",
       "</table>\n",
       "</div>"
      ],
      "text/plain": [
       "  Temperature Dew Point Humidity Wind Wind Speed Wind Gust  Pressure Precip.  \\\n",
       "0       59 °F     46 °F     63 %    W     15 mph     0 mph  29.46 in  0.0 in   \n",
       "1       59 °F     46 °F     63 %    W     18 mph     0 mph  29.46 in  0.0 in   \n",
       "2       59 °F     43 °F     55 %  WNW     18 mph    33 mph  29.46 in  0.0 in   \n",
       "3       59 °F     45 °F     59 %    W     21 mph    33 mph  29.46 in  0.0 in   \n",
       "4       57 °F     45 °F     63 %    W     18 mph    31 mph  29.49 in  0.0 in   \n",
       "\n",
       "               Condition            Datetime  \n",
       "0          Partly Cloudy 2009-05-22 00:00:00  \n",
       "1          Mostly Cloudy 2009-05-22 00:30:00  \n",
       "2          Mostly Cloudy 2009-05-22 00:54:00  \n",
       "3  Mostly Cloudy / Windy 2009-05-22 01:00:00  \n",
       "4          Mostly Cloudy 2009-05-22 01:30:00  "
      ]
     },
     "execution_count": 23,
     "metadata": {},
     "output_type": "execute_result"
    }
   ],
   "source": [
    "df.head()"
   ]
  },
  {
   "cell_type": "code",
   "execution_count": 24,
   "metadata": {},
   "outputs": [],
   "source": [
    "sel_col = ['Temperature', 'Dew Point', 'Humidity', 'Wind Speed', 'Wind Gust', 'Pressure', 'Precip.']\n",
    "\n",
    "for col in sel_col: \n",
    "    df[col] = df[col].str.extract('(\\d+)', expand=False)"
   ]
  },
  {
   "cell_type": "code",
   "execution_count": 25,
   "metadata": {},
   "outputs": [
    {
     "data": {
      "text/plain": [
       "Temperature      44\n",
       "Dew Point      1058\n",
       "Humidity         70\n",
       "Wind             58\n",
       "Wind Speed     2793\n",
       "Wind Gust         0\n",
       "Pressure         24\n",
       "Precip.           0\n",
       "Condition         6\n",
       "Datetime          0\n",
       "dtype: int64"
      ]
     },
     "execution_count": 25,
     "metadata": {},
     "output_type": "execute_result"
    }
   ],
   "source": [
    "df.isna().sum()"
   ]
  },
  {
   "cell_type": "code",
   "execution_count": 26,
   "metadata": {},
   "outputs": [
    {
     "data": {
      "text/plain": [
       "Temperature    0\n",
       "Dew Point      0\n",
       "Humidity       0\n",
       "Wind           0\n",
       "Wind Speed     0\n",
       "Wind Gust      0\n",
       "Pressure       0\n",
       "Precip.        0\n",
       "Condition      0\n",
       "Datetime       0\n",
       "dtype: int64"
      ]
     },
     "execution_count": 26,
     "metadata": {},
     "output_type": "execute_result"
    }
   ],
   "source": [
    "col_has_na = ['Temperature', 'Dew Point', 'Humidity', 'Wind', 'Wind Speed', 'Pressure', 'Condition']\n",
    "\n",
    "for col in col_has_na:\n",
    "    df[col] = df[col].fillna(method = 'bfill')\n",
    "\n",
    "df.isna().sum()    "
   ]
  },
  {
   "cell_type": "code",
   "execution_count": 27,
   "metadata": {},
   "outputs": [],
   "source": [
    "df['Temperature'] = round((df['Temperature'].astype(int) - 32) / (9/5),2)\n",
    "df['Dew Point'] = round((df['Dew Point'].astype(int) - 32) / (9/5),2)"
   ]
  },
  {
   "cell_type": "code",
   "execution_count": 28,
   "metadata": {},
   "outputs": [],
   "source": [
    "df_final = df.rename(columns = {'Temperature' :'temperature(celcius)', 'Dew Point': 'dew_point(celcius)', 'Humidity' :'humidity(%)',\n",
    "                                        'Wind Speed': 'wind_speed(mph)', 'Wind Gust': 'wind_gush(mph)', 'Pressure': 'pressure(in)', 'Precip.' : 'precip.(in)'})"
   ]
  },
  {
   "cell_type": "code",
   "execution_count": 29,
   "metadata": {},
   "outputs": [
    {
     "data": {
      "text/html": [
       "<div>\n",
       "<style scoped>\n",
       "    .dataframe tbody tr th:only-of-type {\n",
       "        vertical-align: middle;\n",
       "    }\n",
       "\n",
       "    .dataframe tbody tr th {\n",
       "        vertical-align: top;\n",
       "    }\n",
       "\n",
       "    .dataframe thead th {\n",
       "        text-align: right;\n",
       "    }\n",
       "</style>\n",
       "<table border=\"1\" class=\"dataframe\">\n",
       "  <thead>\n",
       "    <tr style=\"text-align: right;\">\n",
       "      <th></th>\n",
       "      <th>temperature(celcius)</th>\n",
       "      <th>dew_point(celcius)</th>\n",
       "      <th>humidity(%)</th>\n",
       "      <th>Wind</th>\n",
       "      <th>wind_speed(mph)</th>\n",
       "      <th>wind_gush(mph)</th>\n",
       "      <th>pressure(in)</th>\n",
       "      <th>precip.(in)</th>\n",
       "      <th>Condition</th>\n",
       "      <th>Datetime</th>\n",
       "    </tr>\n",
       "  </thead>\n",
       "  <tbody>\n",
       "    <tr>\n",
       "      <th>0</th>\n",
       "      <td>15.00</td>\n",
       "      <td>7.78</td>\n",
       "      <td>63</td>\n",
       "      <td>W</td>\n",
       "      <td>15</td>\n",
       "      <td>0</td>\n",
       "      <td>29</td>\n",
       "      <td>0</td>\n",
       "      <td>Partly Cloudy</td>\n",
       "      <td>2009-05-22 00:00:00</td>\n",
       "    </tr>\n",
       "    <tr>\n",
       "      <th>1</th>\n",
       "      <td>15.00</td>\n",
       "      <td>7.78</td>\n",
       "      <td>63</td>\n",
       "      <td>W</td>\n",
       "      <td>18</td>\n",
       "      <td>0</td>\n",
       "      <td>29</td>\n",
       "      <td>0</td>\n",
       "      <td>Mostly Cloudy</td>\n",
       "      <td>2009-05-22 00:30:00</td>\n",
       "    </tr>\n",
       "    <tr>\n",
       "      <th>2</th>\n",
       "      <td>15.00</td>\n",
       "      <td>6.11</td>\n",
       "      <td>55</td>\n",
       "      <td>WNW</td>\n",
       "      <td>18</td>\n",
       "      <td>33</td>\n",
       "      <td>29</td>\n",
       "      <td>0</td>\n",
       "      <td>Mostly Cloudy</td>\n",
       "      <td>2009-05-22 00:54:00</td>\n",
       "    </tr>\n",
       "    <tr>\n",
       "      <th>3</th>\n",
       "      <td>15.00</td>\n",
       "      <td>7.22</td>\n",
       "      <td>59</td>\n",
       "      <td>W</td>\n",
       "      <td>21</td>\n",
       "      <td>33</td>\n",
       "      <td>29</td>\n",
       "      <td>0</td>\n",
       "      <td>Mostly Cloudy / Windy</td>\n",
       "      <td>2009-05-22 01:00:00</td>\n",
       "    </tr>\n",
       "    <tr>\n",
       "      <th>4</th>\n",
       "      <td>13.89</td>\n",
       "      <td>7.22</td>\n",
       "      <td>63</td>\n",
       "      <td>W</td>\n",
       "      <td>18</td>\n",
       "      <td>31</td>\n",
       "      <td>29</td>\n",
       "      <td>0</td>\n",
       "      <td>Mostly Cloudy</td>\n",
       "      <td>2009-05-22 01:30:00</td>\n",
       "    </tr>\n",
       "  </tbody>\n",
       "</table>\n",
       "</div>"
      ],
      "text/plain": [
       "   temperature(celcius)  dew_point(celcius) humidity(%) Wind wind_speed(mph)  \\\n",
       "0                 15.00                7.78          63    W              15   \n",
       "1                 15.00                7.78          63    W              18   \n",
       "2                 15.00                6.11          55  WNW              18   \n",
       "3                 15.00                7.22          59    W              21   \n",
       "4                 13.89                7.22          63    W              18   \n",
       "\n",
       "  wind_gush(mph) pressure(in) precip.(in)              Condition  \\\n",
       "0              0           29           0          Partly Cloudy   \n",
       "1              0           29           0          Mostly Cloudy   \n",
       "2             33           29           0          Mostly Cloudy   \n",
       "3             33           29           0  Mostly Cloudy / Windy   \n",
       "4             31           29           0          Mostly Cloudy   \n",
       "\n",
       "             Datetime  \n",
       "0 2009-05-22 00:00:00  \n",
       "1 2009-05-22 00:30:00  \n",
       "2 2009-05-22 00:54:00  \n",
       "3 2009-05-22 01:00:00  \n",
       "4 2009-05-22 01:30:00  "
      ]
     },
     "execution_count": 29,
     "metadata": {},
     "output_type": "execute_result"
    }
   ],
   "source": [
    "df_final.head()"
   ]
  },
  {
   "cell_type": "code",
   "execution_count": 30,
   "metadata": {},
   "outputs": [],
   "source": [
    "path = Path(os.getcwd())\n",
    "levels_up = 1\n",
    "to_folder = path.parents[levels_up]\n",
    "os.chdir(to_folder)\n",
    "df.to_csv( \"edited/WU_merged/wu_weather_merged.csv\", index=False, encoding='utf-8-sig')"
   ]
  }
 ],
 "metadata": {
  "interpreter": {
   "hash": "e7094287f254496241cc358000a25c437191d65d3529ccccea7eb8767c2e14fd"
  },
  "kernelspec": {
   "display_name": "Python 3.8.5 ('cits5508-2022')",
   "language": "python",
   "name": "python3"
  },
  "language_info": {
   "codemirror_mode": {
    "name": "ipython",
    "version": 3
   },
   "file_extension": ".py",
   "mimetype": "text/x-python",
   "name": "python",
   "nbconvert_exporter": "python",
   "pygments_lexer": "ipython3",
   "version": "3.8.5"
  },
  "orig_nbformat": 4
 },
 "nbformat": 4,
 "nbformat_minor": 2
}
